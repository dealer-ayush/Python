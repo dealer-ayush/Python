{
 "cells": [
  {
   "cell_type": "code",
   "execution_count": 1,
   "id": "eac8f2c9-a45e-4bca-90f5-38281393bf0b",
   "metadata": {},
   "outputs": [
    {
     "data": {
      "text/plain": [
       "10"
      ]
     },
     "execution_count": 1,
     "metadata": {},
     "output_type": "execute_result"
    }
   ],
   "source": [
    "x=10.5\n",
    "int(x)"
   ]
  },
  {
   "cell_type": "code",
   "execution_count": 9,
   "id": "5777e239-ae3a-4768-a8ac-ba29a5cc0c27",
   "metadata": {},
   "outputs": [
    {
     "name": "stdout",
     "output_type": "stream",
     "text": [
      "0b1010\n",
      "0xa\n",
      "0o12\n"
     ]
    }
   ],
   "source": [
    "a=10\n",
    "print(bin(a))\n",
    "print(hex(a))\n",
    "print(oct(a))"
   ]
  },
  {
   "cell_type": "code",
   "execution_count": 10,
   "id": "a57737ce-b3df-4277-812b-48488b284b2c",
   "metadata": {},
   "outputs": [
    {
     "data": {
      "text/plain": [
       "10"
      ]
     },
     "execution_count": 10,
     "metadata": {},
     "output_type": "execute_result"
    }
   ],
   "source": [
    "n=0b1010\n",
    "int(n)"
   ]
  },
  {
   "cell_type": "code",
   "execution_count": 14,
   "id": "a268670a-fb68-4d71-933f-82277deb616d",
   "metadata": {},
   "outputs": [
    {
     "name": "stdout",
     "output_type": "stream",
     "text": [
      "10\n"
     ]
    }
   ],
   "source": [
    "a='1010'\n",
    "a=int(a,2)\n",
    "print(a)"
   ]
  },
  {
   "cell_type": "code",
   "execution_count": 25,
   "id": "597e0188-5aad-41f6-81ac-c16013c4fab9",
   "metadata": {},
   "outputs": [
    {
     "name": "stdout",
     "output_type": "stream",
     "text": [
      "False\n",
      "True\n",
      "True\n",
      "True\n",
      "False\n"
     ]
    }
   ],
   "source": [
    "print(bool(0))\n",
    "print(bool(1))\n",
    "print(bool(\"hello\"))\n",
    "print(bool(154))\n",
    "print(bool())"
   ]
  },
  {
   "cell_type": "code",
   "execution_count": 23,
   "id": "da86ad2e-c3a5-40eb-8b26-5ccf37a6cb59",
   "metadata": {
    "collapsed": true,
    "jupyter": {
     "outputs_hidden": true
    }
   },
   "outputs": [
    {
     "name": "stdout",
     "output_type": "stream",
     "text": [
      "pal\n"
     ]
    }
   ],
   "source": [
    "print(\"pal\")"
   ]
  },
  {
   "cell_type": "code",
   "execution_count": 27,
   "id": "6ec3ab35-4336-4ece-a171-aad4d4c04f19",
   "metadata": {},
   "outputs": [
    {
     "name": "stdout",
     "output_type": "stream",
     "text": [
      "True\n"
     ]
    }
   ],
   "source": [
    "print(bool(10))"
   ]
  },
  {
   "cell_type": "code",
   "execution_count": 36,
   "id": "163910a0-8c76-49ca-9110-04214dc80725",
   "metadata": {},
   "outputs": [
    {
     "name": "stdout",
     "output_type": "stream",
     "text": [
      "<class 'int'>\n",
      "<class 'int'>\n",
      "<class 'int'>\n"
     ]
    }
   ],
   "source": [
    "a =5\n",
    "b =5\n",
    "c =500\n",
    "print(type(c))\n",
    "print(type(b))\n",
    "print(type(a))\n"
   ]
  },
  {
   "cell_type": "code",
   "execution_count": 42,
   "id": "e8d3c60c-14a9-4b1f-a0eb-34a88accd046",
   "metadata": {},
   "outputs": [
    {
     "name": "stdout",
     "output_type": "stream",
     "text": [
      "<class 'float'>\n",
      "3\n",
      "3.14159\n"
     ]
    }
   ],
   "source": [
    "pi_value=3.14159\n",
    "print(type(pi_value))\n",
    "a = print(int(pi_value))\n",
    "print(str(pi_value))"
   ]
  },
  {
   "cell_type": "code",
   "execution_count": 59,
   "id": "08b3b40a-7eb5-4929-808d-0d7e1af3672e",
   "metadata": {},
   "outputs": [
    {
     "name": "stdout",
     "output_type": "stream",
     "text": [
      "data type of username: <class 'str'>\n"
     ]
    }
   ],
   "source": [
    "username = \"john_doe\"\n",
    "print(\"data type of username:\", type (username))\n"
   ]
  },
  {
   "cell_type": "code",
   "execution_count": null,
   "id": "49b81d6a-efc2-4042-aa03-97a2123ce256",
   "metadata": {},
   "outputs": [
    {
     "name": "stdout",
     "output_type": "stream",
     "text": [
      "98.0\n",
      "<class 'int'>\n",
      "<class 'float'>\n",
      "<class 'float'>\n",
      "140725897835720\n",
      "1972597246416\n",
      "1972610740720\n"
     ]
    }
   ],
   "source": [
    "mass=10\n",
    "accel=9.8\n",
    "f=mass*accel\n",
    "print(f)\n",
    "print(type(mass))\n",
    "print(type(accel))\n",
    "print(type(f))\n",
    "print(id(mass))\n",
    "print(id(accel))\n",
    "print(id(f))"
   ]
  },
  {
   "cell_type": "code",
   "execution_count": 65,
   "id": "5374d8fe-f895-4fd6-a32f-ad9410924e7f",
   "metadata": {},
   "outputs": [
    {
     "name": "stdout",
     "output_type": "stream",
     "text": [
      "36.5\n",
      "38.0\n",
      "<class 'float'>\n"
     ]
    }
   ],
   "source": [
    "sensor=\"36.5\"\n",
    "print(float(sensor))\n",
    "a = 36.5 + 1.5\n",
    "print(a)\n",
    "print(type(a))"
   ]
  },
  {
   "cell_type": "code",
   "execution_count": null,
   "id": "71e38ae7-24eb-4cc0-92d8-7d1df95b62e2",
   "metadata": {},
   "outputs": [],
   "source": []
  }
 ],
 "metadata": {
  "kernelspec": {
   "display_name": "Python [conda env:base] *",
   "language": "python",
   "name": "conda-base-py"
  },
  "language_info": {
   "codemirror_mode": {
    "name": "ipython",
    "version": 3
   },
   "file_extension": ".py",
   "mimetype": "text/x-python",
   "name": "python",
   "nbconvert_exporter": "python",
   "pygments_lexer": "ipython3",
   "version": "3.13.5"
  }
 },
 "nbformat": 4,
 "nbformat_minor": 5
}
