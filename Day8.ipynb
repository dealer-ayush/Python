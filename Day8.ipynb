{
 "cells": [
  {
   "cell_type": "code",
   "execution_count": 5,
   "id": "cd81f830-6006-4ee3-93c0-15665da2707d",
   "metadata": {},
   "outputs": [
    {
     "name": "stdout",
     "output_type": "stream",
     "text": [
      "Welcome to Python! Alice\n",
      "Hello and good luck, Bob\n",
      "\n",
      "Name: Charlie, Age: 28, Salary: 50000\n",
      "\n",
      "Average: 5.0\n",
      "\n",
      "Title: Python Basics\n",
      "Author: John Doe\n",
      "Price: 299.99\n",
      "\n",
      "Model: Sedan\n",
      "Year: 2023\n",
      "Features: Air Conditioning, GPS\n",
      "Color: Red\n",
      "Transmission: Automatic\n"
     ]
    }
   ],
   "source": [
    "# Practice Questions\n",
    "\n",
    "# 1. welcome function\n",
    "def welcome(name, msg=\"Welcome to Python!\"):\n",
    "    print(f\"{msg} {name}\")\n",
    "welcome(\"Alice\") \n",
    "welcome(\"Bob\", \"Hello and good luck,\")  \n",
    "\n",
    "print(\"\")\n",
    "\n",
    "# 2. employee_info function\n",
    "def employee_info(name, age, salary):\n",
    "    print(f\"Name: {name}, Age: {age}, Salary: {salary}\")\n",
    "employee_info(age=28, salary=50000, name=\"Charlie\")\n",
    "\n",
    "print(\"\")\n",
    "\n",
    "# 3. average function\n",
    "def average(*numbers):\n",
    "    if numbers:\n",
    "        return sum(numbers) / len(numbers)\n",
    "    return 0\n",
    "print(\"Average:\", average(2, 4, 6, 8))\n",
    "\n",
    "print(\"\")\n",
    "\n",
    "# 4. book_details function using **kwargs\n",
    "def book_details(**kwargs):\n",
    "    for key, value in kwargs.items():\n",
    "        print(f\"{key.title()}: {value}\")\n",
    "book_details(title=\"Python Basics\", author=\"John Doe\", price=299.99)\n",
    "\n",
    "print(\"\")\n",
    "\n",
    "# 5. car_details function\n",
    "def car_details(model, year=2022, *features, **specs):\n",
    "    print(f\"Model: {model}\")\n",
    "    print(f\"Year: {year}\")\n",
    "    if features:\n",
    "        print(\"Features:\", ', '.join(features))\n",
    "    for key, value in specs.items():\n",
    "        print(f\"{key.title()}: {value}\")\n",
    "car_details(\"Sedan\", 2023, \"Air Conditioning\", \"GPS\", color=\"Red\", transmission=\"Automatic\")"
   ]
  },
  {
   "cell_type": "code",
   "execution_count": 8,
   "id": "b0171ab3-0775-4c95-bab5-f575332199a7",
   "metadata": {},
   "outputs": [
    {
     "name": "stdout",
     "output_type": "stream",
     "text": [
      "300\n",
      "\n",
      "300\n"
     ]
    }
   ],
   "source": [
    "# Python Scope \n",
    "'''\n",
    "A variable is only available from inside the region it is created. This is called scope.\n",
    "'''\n",
    "# Local Scope\n",
    "'''\n",
    "A variable created inside a function belongs to the local scope of that function, and can only be used inside that function.\n",
    "'''\n",
    "\n",
    "# Example\n",
    "# 1.\n",
    "def myfunc():\n",
    "  x = 300\n",
    "  print(x)\n",
    "myfunc()\n",
    "\n",
    "print(\"\")\n",
    "\n",
    "# 2. Function inside function\n",
    "def myfunc():\n",
    "  x = 300\n",
    "  def myinnerfunc():\n",
    "    print(x)\n",
    "  myinnerfunc()\n",
    "myfunc()"
   ]
  },
  {
   "cell_type": "code",
   "execution_count": 10,
   "id": "62460faf-be50-4f37-baec-d564a1a682f0",
   "metadata": {},
   "outputs": [
    {
     "name": "stdout",
     "output_type": "stream",
     "text": [
      "300\n",
      "300\n",
      "\n",
      "300\n"
     ]
    }
   ],
   "source": [
    "# Global Scope\n",
    "'''\n",
    "A variable created in the main body of the Python code is a global variable and belongs to the global scope.\n",
    "\n",
    "Global variables are available from within any scope, global and local.\n",
    "'''\n",
    "\n",
    "# Example\n",
    "# 1.\n",
    "x = 300\n",
    "def myfunc():\n",
    "  print(x)\n",
    "myfunc()\n",
    "print(x)\n",
    "\n",
    "print(\"\")\n",
    "\n",
    "# 2. Using global keyword\n",
    "def myfunc():\n",
    "  global x\n",
    "  x = 300\n",
    "myfunc()\n",
    "print(x)"
   ]
  },
  {
   "cell_type": "code",
   "execution_count": null,
   "id": "9b75c9e4",
   "metadata": {},
   "outputs": [],
   "source": [
    "# Scope Resolution (LEGB Rule)\n",
    "'''\n",
    "Python resolve variable names using the LEGB rule:\n",
    "-> Local : Names assigned in the current function.\n",
    "-> Enclosing function locals : Name in the local scope of any enclosing functions (for nested functions).\n",
    "-> Global : Names assigned at the top-level of a module.\n",
    "-> Built-in : Names pre-assigned in python(e.g., print, len)\n",
    "'''"
   ]
  },
  {
   "cell_type": "code",
   "execution_count": 14,
   "id": "c9bfd0a0-49b4-4e90-a873-37b9dfbf2865",
   "metadata": {},
   "outputs": [
    {
     "name": "stdout",
     "output_type": "stream",
     "text": [
      "Factorial of 5: 120\n",
      "Factorial of 0: 1\n"
     ]
    }
   ],
   "source": [
    "# Recursive Function\n",
    "'''\n",
    "Python also accepts function recursion, which means a defined function can call itself.\n",
    "Recursion is a common mathematical and programming concept. It means that a function calls itself.\n",
    "This has the benefit of meaning that you can loop through data to reach a result.\n",
    "'''\n",
    "\n",
    "# Example : Factorial calculation (n! = n*(n-1)!)\n",
    "def factorial(n):\n",
    "    if n==0:  # Base case\n",
    "        return 1\n",
    "    else:   # Recursive step\n",
    "        return n*factorial(n-1)\n",
    "print(\"Factorial of 5:\", factorial(5))\n",
    "print(\"Factorial of 0:\", factorial(0))"
   ]
  },
  {
   "cell_type": "code",
   "execution_count": null,
   "id": "a9feca94-d08d-4f25-95de-e49aa4dfbd1b",
   "metadata": {},
   "outputs": [
    {
     "name": "stdout",
     "output_type": "stream",
     "text": [
      "Map object: <map object at 0x0000018261F4BA90>\n",
      "List of squared numbers : [1, 4, 9, 16, 25]\n"
     ]
    }
   ],
   "source": [
    "# map() Function\n",
    "'''\n",
    "The map() function applies a given function to each item of an iterable (e.g., list, tuple) and returns an iterator (map object) containing the results.\n",
    "\n",
    "Syntax:\n",
    "   map(function, iterable, ...)\n",
    "\n",
    " Function: The function to be applied to each item.\n",
    " Iterable: One or more iterables whose items will be passed to the function.\n",
    "'''\n",
    "# Example : Squaring each number in list\n",
    "n = [1,2,3,4,5]\n",
    "def square(x):\n",
    "    return x*x\n",
    "s_map = map(square,n)\n",
    "print(f\"Map object: {s_map}\")\n",
    "print(f\"List of squared numbers : {list(s_map)}\")"
   ]
  },
  {
   "cell_type": "code",
   "execution_count": null,
   "id": "0211582d-f158-45d9-bee4-2f6ee93b88c6",
   "metadata": {},
   "outputs": [
    {
     "name": "stdout",
     "output_type": "stream",
     "text": [
      "Filter object : <filter object at 0x000001825FA6B130>\n",
      "List of even numbers : [2, 4, 6, 8, 10]\n"
     ]
    }
   ],
   "source": [
    "# filter() Function\n",
    "'''\n",
    "The filter() function constructs an iterator from elements of an iterable for which a function returns True. \n",
    "It \"filters\" out elements that don't satisfy a condition.\n",
    "\n",
    "Syntax:\n",
    "   filter(function, iterable)\n",
    "\n",
    " Function: A function that returns True or False.\n",
    " Iterable: The sequence to be filtered.\n",
    "'''\n",
    "# Example : Filtering even numbers from a list\n",
    "n = [1,2,3,4,5,6,7,8,9,10]\n",
    "def is_even(num):\n",
    "    return num % 2 == 0\n",
    "even = filter(is_even, n)\n",
    "print(f\"Filter object : {even}\")\n",
    "print(f\"List of even numbers : {list(even)}\")"
   ]
  }
 ],
 "metadata": {
  "kernelspec": {
   "display_name": "base",
   "language": "python",
   "name": "python3"
  },
  "language_info": {
   "codemirror_mode": {
    "name": "ipython",
    "version": 3
   },
   "file_extension": ".py",
   "mimetype": "text/x-python",
   "name": "python",
   "nbconvert_exporter": "python",
   "pygments_lexer": "ipython3",
   "version": "3.13.5"
  }
 },
 "nbformat": 4,
 "nbformat_minor": 5
}
