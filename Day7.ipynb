{
 "cells": [
  {
   "cell_type": "code",
   "execution_count": 2,
   "id": "6ceabebf-a41f-43fb-bbd8-492cfb997460",
   "metadata": {},
   "outputs": [
    {
     "name": "stdout",
     "output_type": "stream",
     "text": [
      "Enter number of rows for Right-angled Triangle:  5\n"
     ]
    },
    {
     "name": "stdout",
     "output_type": "stream",
     "text": [
      "*\n",
      "**\n",
      "***\n",
      "****\n",
      "*****\n",
      "\n"
     ]
    },
    {
     "name": "stdout",
     "output_type": "stream",
     "text": [
      "Enter number of rows for Inverted Right-angled Triangle:  5\n"
     ]
    },
    {
     "name": "stdout",
     "output_type": "stream",
     "text": [
      "*****\n",
      "****\n",
      "***\n",
      "**\n",
      "*\n"
     ]
    }
   ],
   "source": [
    "# Right-angled Triangle using while loop\n",
    "rows = int(input(\"Enter number of rows for Right-angled Triangle: \"))\n",
    "i = 1\n",
    "while i <= rows:\n",
    "    print(\"*\" * i)\n",
    "    i += 1\n",
    "\n",
    "print(\"\")  # for spacing\n",
    "\n",
    "# Inverted Right-angled Triangle using while loop\n",
    "rows = int(input(\"Enter number of rows for Inverted Right-angled Triangle: \"))\n",
    "i = rows\n",
    "while i > 0:\n",
    "    print(\"*\" * i)\n",
    "    i -= 1"
   ]
  },
  {
   "cell_type": "code",
   "execution_count": 3,
   "id": "0f2ee220-c6a0-4697-b905-819fb7845b35",
   "metadata": {},
   "outputs": [
    {
     "name": "stdout",
     "output_type": "stream",
     "text": [
      "Enter number of rows:  5\n"
     ]
    },
    {
     "name": "stdout",
     "output_type": "stream",
     "text": [
      "    *\n",
      "   ***\n",
      "  *****\n",
      " *******\n",
      "*********\n",
      " *******\n",
      "  *****\n",
      "   ***\n",
      "    *\n"
     ]
    }
   ],
   "source": [
    "# Diamond Pattern using while loop\n",
    "rows = int(input(\"Enter number of rows: \"))\n",
    "i = 1\n",
    "while i <= rows:\n",
    "    print(\" \" * (rows - i) + \"*\" * (2 * i - 1))\n",
    "    i += 1\n",
    "i = rows - 1\n",
    "while i > 0:\n",
    "    print(\" \" * (rows - i) + \"*\" * (2 * i - 1))\n",
    "    i -= 1\n"
   ]
  },
  {
   "cell_type": "code",
   "execution_count": 4,
   "id": "37f40632-0919-4c94-b208-7b8a6abce042",
   "metadata": {
    "notebookRunGroups": {
     "groupValue": "2"
    }
   },
   "outputs": [
    {
     "name": "stdout",
     "output_type": "stream",
     "text": [
      "Enter number of rows:  5\n",
      "Enter number of columns:  5\n"
     ]
    },
    {
     "name": "stdout",
     "output_type": "stream",
     "text": [
      "*****\n",
      "*   *\n",
      "*   *\n",
      "*   *\n",
      "*****\n"
     ]
    }
   ],
   "source": [
    "# Hollow Rectangle using while loop\n",
    "rows = int(input(\"Enter number of rows: \"))\n",
    "cols = int(input(\"Enter number of columns: \"))\n",
    "\n",
    "i = 0\n",
    "while i < rows:\n",
    "    j = 0\n",
    "    while j < cols:\n",
    "        if i == 0 or i == rows - 1 or j == 0 or j == cols - 1:\n",
    "            print(\"*\", end=\"\")\n",
    "        else:\n",
    "            print(\" \", end=\"\")\n",
    "        j += 1\n",
    "    print()\n",
    "    i += 1"
   ]
  },
  {
   "cell_type": "code",
   "execution_count": null,
   "id": "f65f5b17",
   "metadata": {},
   "outputs": [],
   "source": [
    "# Function\n",
    "'''\n",
    "A function is a block of organized, reusable code that is used to perform a single, related action. \n",
    "Functions provide better modularity for your application and a high degree of code reusing. \n",
    "You can think of a function as a mini-program within your main program.\n",
    "\n",
    "Benefits of using functions:\n",
    " Reusability: Write once, use multiple times.\n",
    " Modularity: Break down complex problems into smaller, manageable parts.\n",
    " Readability: Makes code easier to understand and debug.\n",
    " Maintainability: Changes made in one function don't necessarily affect other parts of the code.\n",
    "\n",
    "'''"
   ]
  },
  {
   "cell_type": "code",
   "execution_count": null,
   "id": "36c723bd",
   "metadata": {},
   "outputs": [],
   "source": [
    "# Function Declaration (def keyword) \n",
    "'''\n",
    "In Python, functions are defined using the def keyword, followed by the function name, parentheses (), and a colon :. \n",
    "The code block forming the function's body must be indented.\n",
    "\n",
    "Syntax:\n",
    "def function_name(parameters):\n",
    "      Docstring: Optional, explains what the function does.\n",
    "    # Function body (indented code)\n",
    "    statement_1\n",
    "    statement_2\n",
    "    # ...\n",
    "    return [expression] # Optional: returns a value\n",
    "    \n",
    "Function_name: A valid identifier.\n",
    "Parameters: Optional. Variables listed inside the parentheses, acting as inputs to the function.\n",
    "Docstring: A string literal used to document a function. It's good practice to include one.\n",
    "Return statement: Optional. Used to send a value back to the caller. If omitted, the function implicitly returns None.\n",
    "'''"
   ]
  },
  {
   "cell_type": "code",
   "execution_count": null,
   "id": "d03eaed9-e803-46d7-b7cb-0f72d3ce0478",
   "metadata": {},
   "outputs": [
    {
     "name": "stdout",
     "output_type": "stream",
     "text": [
      "Hello, welcome to python functions!\n",
      "\n",
      "sum =11\n"
     ]
    },
    {
     "data": {
      "text/plain": [
       "11"
      ]
     },
     "execution_count": 1,
     "metadata": {},
     "output_type": "execute_result"
    }
   ],
   "source": [
    "# Example \n",
    "# 1. Simple function without parameters or return value\n",
    "def greet():\n",
    "    '''This function prints a greeting message.'''\n",
    "    print(\"Hello, welcome to python functions!\")\n",
    "greet()\n",
    "\n",
    "print(\"\")\n",
    "\n",
    "# 2. Function with parameter and a return value\n",
    "def add(a,b):\n",
    "    '''This function takes two numbera and returns their sum.'''\n",
    "    sum = a+b\n",
    "    print(f\"sum ={sum}\")\n",
    "    return sum\n",
    "add(5,6)"
   ]
  },
  {
   "cell_type": "code",
   "execution_count": 2,
   "id": "9b5fd83a",
   "metadata": {},
   "outputs": [
    {
     "name": "stdout",
     "output_type": "stream",
     "text": [
      "Hello, welcome to python functions!\n"
     ]
    }
   ],
   "source": [
    "# Function Calling\n",
    "'''\n",
    "Once a function is defined, you can call (or invoke) it by using its name followed by parentheses (), passing any required arguments inside.\n",
    "'''\n",
    "\n",
    "#Examples:\n",
    "# Calling the greet function\n",
    "def greet():\n",
    "    '''This function prints a greeting message.'''\n",
    "    print(\"Hello, welcome to python functions!\")\n",
    "greet()\n",
    " # Output: Hello, welcome to Python functions!\n",
    "# Calling the add_numbers function and storing its return value\n",
    "def add(a,b):\n",
    "    result = add(10, 5)\n",
    "    print(f\"The sum is: {result}\") # Output: The sum is: 15\n",
    "# Calling and printing directly\n",
    "    print(f\"Sum of 7 and 3 is: {add(7, 3)}\") # Output: Sum of 7 and 3 is: 10\n"
   ]
  },
  {
   "cell_type": "code",
   "execution_count": null,
   "id": "06a4089c",
   "metadata": {},
   "outputs": [],
   "source": [
    "# Types of function argument\n",
    "'''\n",
    "1. Positional Argument \n",
    "2. Keyword Argument\n",
    "3. Default Argument\n",
    "'''"
   ]
  },
  {
   "cell_type": "code",
   "execution_count": null,
   "id": "68e74e35-fef0-4e41-bd8e-863779898e77",
   "metadata": {},
   "outputs": [
    {
     "name": "stdout",
     "output_type": "stream",
     "text": [
      "I have a dog.\n",
      "Its name is Buddy.\n"
     ]
    }
   ],
   "source": [
    "# Positional Argument\n",
    "'''\n",
    "These are arguments passed to a function in the correct positional order. \n",
    "The order in which you define the parameters in the function definition must match the order in which you pass the arguments when calling the function.\n",
    "'''\n",
    "#Example\n",
    "def describe_pet(animal_type, pet_name):\n",
    "    print(f\"I have a {animal_type}.\")\n",
    "    print(f\"Its name is {pet_name}.\") \n",
    "describe_pet('dog', 'Buddy')"
   ]
  },
  {
   "cell_type": "code",
   "execution_count": 3,
   "id": "075aabc6-39c2-47e3-897f-d4df71faba30",
   "metadata": {},
   "outputs": [
    {
     "name": "stdout",
     "output_type": "stream",
     "text": [
      "I have a tommy.\n",
      "Its name is dog.\n"
     ]
    }
   ],
   "source": [
    "def describe_pet(animal_type, pet_name):\n",
    "    print(f\"I have a {animal_type}.\")\n",
    "    print(f\"Its name is {pet_name}.\") \n",
    "describe_pet('tommy', 'dog')"
   ]
  },
  {
   "cell_type": "code",
   "execution_count": null,
   "id": "d35ef911-45c8-43e0-8b86-3f175902ce4e",
   "metadata": {},
   "outputs": [
    {
     "name": "stdout",
     "output_type": "stream",
     "text": [
      "I have a cat.\n",
      "Its name is Lucy.\n",
      "I have a Hamster.\n",
      "Its name is Max.\n"
     ]
    }
   ],
   "source": [
    "# Keyword Arguments\n",
    "'''\n",
    "You can specify the argument by its parameter name (keyword) when calling the function. \n",
    "This way, the order of the arguments doesn't matter, and it makes the function call more readable.\n",
    "'''\n",
    "# Example\n",
    "def describe_pet(animal_type, pet_name):\n",
    "    print(f\"I have a {animal_type}.\")\n",
    "    print(f\"Its name is {pet_name}.\") \n",
    "describe_pet(animal_type = 'cat', pet_name = 'Lucy')\n",
    "describe_pet(pet_name = 'Max', animal_type = 'Hamster')"
   ]
  },
  {
   "cell_type": "code",
   "execution_count": null,
   "id": "245205ea-6150-4375-98fd-ba22a17be451",
   "metadata": {},
   "outputs": [
    {
     "name": "stdout",
     "output_type": "stream",
     "text": [
      "Hello, Alice!\n",
      "Hello, Guest!\n",
      "\n",
      "50\n",
      "100\n"
     ]
    }
   ],
   "source": [
    "# Default Arguments\n",
    "'''\n",
    "You can provide a default value for a parameter. \n",
    "If the caller does not provide an argument for that parameter, the default value is used. \n",
    "Default parameters must be defined after any non-default parameters.\n",
    "Default parameters always start with Right side.\n",
    "Deafault value can be override.\n",
    "'''\n",
    "# Example\n",
    "# 1.\n",
    "def greet_person(name = \"Guest\"):\n",
    "    print(f\"Hello, {name}!\")\n",
    "greet_person(\"Alice\")\n",
    "greet_person()\n",
    "\n",
    "print(\"\")\n",
    "# 2.\n",
    "def area(length, width=10):\n",
    "    return length*width\n",
    "print(area(5))\n",
    "print(area(5,20))"
   ]
  },
  {
   "cell_type": "code",
   "execution_count": 10,
   "id": "bf6c1956-52d7-4938-a517-ebd0b8999175",
   "metadata": {},
   "outputs": [
    {
     "name": "stdout",
     "output_type": "stream",
     "text": [
      "Name :  Ram\n",
      "Rollno :  15\n",
      "Grade :  A\n",
      "Branch :  CSE\n",
      "***************\n",
      "Name :  Pal\n",
      "Rollno :  16\n",
      "Grade :  A\n",
      "Branch :  CSE\n",
      "***************\n",
      "Name :  IQ\n",
      "Rollno :  10\n",
      "Grade :  B\n",
      "Branch :  CSE\n",
      "***************\n"
     ]
    }
   ],
   "source": [
    "# use of positional, keyword and default argument\n",
    "def student(name , rollno, grade = 'A', branch = 'CSE'):\n",
    "    print(\"Name : \", name)\n",
    "    print(\"Rollno : \", rollno)\n",
    "    print(\"Grade : \", grade)\n",
    "    print(\"Branch : \", branch)\n",
    "    print(\"*\"*15)\n",
    "# Positional Argument\n",
    "student(\"Ram\", 15)\n",
    "# Keyword Argument\n",
    "student(rollno = 16, name = \"Pal\")\n",
    "# Default\n",
    "student(name = \"IQ\", rollno = 10, grade = \"B\")"
   ]
  },
  {
   "cell_type": "code",
   "execution_count": 12,
   "id": "406fdc0a-c9e3-4936-8866-34765137c6bf",
   "metadata": {},
   "outputs": [
    {
     "name": "stdout",
     "output_type": "stream",
     "text": [
      "Enter the base:  42\n",
      "Enter the exponent:  3\n"
     ]
    },
    {
     "name": "stdout",
     "output_type": "stream",
     "text": [
      "42 raised to the power 3 is 74088\n"
     ]
    }
   ],
   "source": [
    "# Function to calculate power\n",
    "def power(base, exponent):\n",
    "    return base ** exponent\n",
    "base = int(input(\"Enter the base: \"))\n",
    "exponent = int(input(\"Enter the exponent: \"))\n",
    "result = power(base, exponent)\n",
    "print(f\"{base} raised to the power {exponent} is {result}\")"
   ]
  },
  {
   "cell_type": "code",
   "execution_count": null,
   "id": "1e95ed67-5dce-465e-9e60-4c74ee463588",
   "metadata": {},
   "outputs": [
    {
     "name": "stdout",
     "output_type": "stream",
     "text": [
      "6\n",
      "100\n",
      "0\n",
      "\n",
      "Name :  Ram\n",
      "Rollno :  12\n",
      "Grade :  A\n",
      "Branch :  CSE\n"
     ]
    }
   ],
   "source": [
    "# Variable-length positional arguments(*args)\n",
    "'''\n",
    "Sometimes you don't know in advance how many positional arguments a function will receive. \n",
    "Python allows you to handle this using *args (the name args is a convention, but the asterisk * is required). \n",
    "It collects an arbitrary number of positional arguments into a tuple.\n",
    "'''\n",
    "\n",
    "# Example\n",
    "def num(*number):\n",
    "    total=0\n",
    "    for n in number:\n",
    "        total+=n\n",
    "    return total\n",
    "print(num(1,2,3))\n",
    "print(num(10,20,30,40))\n",
    "print(num())\n",
    "\n",
    "print(\"\")\n",
    "\n",
    "#2.\n",
    "def student(*info):\n",
    "    print(\"Name : \", info[0])\n",
    "    print(\"Rollno : \", info[1])\n",
    "    print(\"Grade : \", info[2])\n",
    "    print(\"Branch : \", info[3])\n",
    "student(\"Ram\", 12, \"A\", \"CSE\")"
   ]
  },
  {
   "cell_type": "code",
   "execution_count": 19,
   "id": "fff19c46-def3-46b5-a201-554438cc081e",
   "metadata": {},
   "outputs": [
    {
     "name": "stdout",
     "output_type": "stream",
     "text": [
      "name : ('Ram', 12, 'A', 'CSE')\n"
     ]
    }
   ],
   "source": [
    "# using for loop in *args\n",
    "\n",
    "def student(*info):\n",
    "    title = [\"name\", \"rollno\", \"grade\", \"branch\"]\n",
    "    for i in range(len(info)):\n",
    "        print(title[i],\":\", info[i])\n",
    "student((\"Ram\", 12, \"A\",\"CSE\"))"
   ]
  },
  {
   "cell_type": "code",
   "execution_count": null,
   "id": "30d85faa-9336-436d-92d8-aa21aa4285c9",
   "metadata": {},
   "outputs": [
    {
     "name": "stdout",
     "output_type": "stream",
     "text": [
      "User info:\n",
      "Name :  Alice\n",
      "Age :  30\n",
      "City :  New York\n"
     ]
    }
   ],
   "source": [
    "# Variable-Length Keyword Arguments(**kwargs)\n",
    "'''\n",
    "Similarly, you might not know in advance how many keyword arguments a function will receive. \n",
    "**kwargs (the name kwargs is a convention, but the double asterisk ** is required) collects an arbitrary number of keyword arguments into a dictionary.\n",
    "'''\n",
    "\n",
    "# Example\n",
    "def user_info(**info):\n",
    "    print(\"User info:\")\n",
    "    for key, value in info.items():\n",
    "        print(f\"{key.replace('_','').capitalize()} :  {value}\")\n",
    "user_info(name = \"Alice\", age = 30, city = \"New York\")"
   ]
  },
  {
   "cell_type": "code",
   "execution_count": null,
   "id": "59c402b4-120f-4254-8649-5f364ee871d6",
   "metadata": {},
   "outputs": [
    {
     "name": "stdout",
     "output_type": "stream",
     "text": [
      "a:1, b:2, c:custom_c\n",
      "Position args (*args):(4, 5)\n",
      "Keyword args(**kwargs):{'key1': 'val1', 'key2': 'val2'}\n"
     ]
    }
   ],
   "source": [
    "# Combining Argument Types (Order Matters in Definition) \n",
    "'''\n",
    "When combining different argument types in a function definition, they must appear in this order:\n",
    "1.Positional arguments\n",
    "2.Default arguments\n",
    "3.*args (variable-length positional)\n",
    "4.**kwargs (variable-length keyword)\n",
    "'''\n",
    "def complex_function(a, b, c ='default_c', *args, **kwargs):\n",
    "    print(f\"a:{a}, b:{b}, c:{c}\")\n",
    "    print(f\"Position args (*args):{args}\")\n",
    "    print(f\"Keyword args(**kwargs):{kwargs}\")\n",
    "complex_function(1,2, 'custom_c', 4,5, key1 = 'val1', key2='val2')"
   ]
  }
 ],
 "metadata": {
  "kernelspec": {
   "display_name": "Python 3",
   "language": "python",
   "name": "python3"
  },
  "language_info": {
   "codemirror_mode": {
    "name": "ipython",
    "version": 3
   },
   "file_extension": ".py",
   "mimetype": "text/x-python",
   "name": "python",
   "nbconvert_exporter": "python",
   "pygments_lexer": "ipython3",
   "version": "3.11.9"
  }
 },
 "nbformat": 4,
 "nbformat_minor": 5
}
