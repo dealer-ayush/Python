{
 "cells": [
  {
   "cell_type": "code",
   "execution_count": null,
   "id": "af4b4e3f-a233-446c-adce-480a7f77f7e5",
   "metadata": {},
   "outputs": [],
   "source": [
    "# Exercise"
   ]
  },
  {
   "cell_type": "code",
   "execution_count": 1,
   "id": "d6ecb44a-c672-4fe8-a112-aa36958b9461",
   "metadata": {},
   "outputs": [
    {
     "name": "stdout",
     "output_type": "stream",
     "text": [
      "Enter integers separated by spaces:  42 -45 87 -97\n"
     ]
    },
    {
     "name": "stdout",
     "output_type": "stream",
     "text": [
      "Sum of positive numbers: 129\n"
     ]
    }
   ],
   "source": [
    "# 1. Sum of only positive numbers\n",
    "numbers = list(map(int, input(\"Enter integers separated by spaces: \").split()))\n",
    "total = 0\n",
    "\n",
    "for num in numbers:\n",
    "    if num > 0:\n",
    "        total += num\n",
    "\n",
    "print(\"Sum of positive numbers:\", total)"
   ]
  },
  {
   "cell_type": "code",
   "execution_count": 5,
   "id": "941e4996-c900-46cc-9627-501a2f023584",
   "metadata": {},
   "outputs": [
    {
     "name": "stdout",
     "output_type": "stream",
     "text": [
      "Enter integers seperated by space:  142 451 4157 514\n"
     ]
    },
    {
     "name": "stdout",
     "output_type": "stream",
     "text": [
      "Largest number in list: 4157\n"
     ]
    }
   ],
   "source": [
    "# 2. Find the largest number in a list\n",
    "number = list(map(int, input(\"Enter integers seperated by space: \").split()))\n",
    "largest = number[0]\n",
    "\n",
    "for num in number:\n",
    "    if num > largest: \n",
    "        largest = num\n",
    "\n",
    "print(\"Largest number in list:\", largest)"
   ]
  },
  {
   "cell_type": "code",
   "execution_count": 8,
   "id": "ec02573c-5c2d-48d7-b0d2-fcc1f324b78e",
   "metadata": {},
   "outputs": [
    {
     "name": "stdout",
     "output_type": "stream",
     "text": [
      "Enter a message: I am Ayush.\n"
     ]
    },
    {
     "name": "stdout",
     "output_type": "stream",
     "text": [
      "Number of vowel in message : 4\n"
     ]
    }
   ],
   "source": [
    "# 3. Count vowels in a string\n",
    "text = input(\"Enter a message:\")\n",
    "vowel = \"aeiouAEIOU\"\n",
    "count = 0\n",
    "\n",
    "for ch in text:\n",
    "    if ch in vowel:\n",
    "        count += 1\n",
    "\n",
    "print(\"Number of vowel in message :\", count)"
   ]
  },
  {
   "cell_type": "code",
   "execution_count": 10,
   "id": "680f9da0-c7e6-4af5-a1a5-44c911f26be2",
   "metadata": {},
   "outputs": [
    {
     "name": "stdout",
     "output_type": "stream",
     "text": [
      "Enter a number for factorial: 5\n"
     ]
    },
    {
     "name": "stdout",
     "output_type": "stream",
     "text": [
      "Factorial of  5 is: 120\n"
     ]
    }
   ],
   "source": [
    "# 4. Factorial of a given positive integer\n",
    "num = int(input(\"Enter a number for factorial:\"))\n",
    "factorial = 1\n",
    "\n",
    "for a in range(1, num+1):\n",
    "    factorial *= a\n",
    "\n",
    "print(\"Factorial of \", num , \"is:\", factorial)"
   ]
  },
  {
   "cell_type": "code",
   "execution_count": 14,
   "id": "39a7df49-db6f-4a03-bd8d-32b0d4747183",
   "metadata": {},
   "outputs": [
    {
     "name": "stdout",
     "output_type": "stream",
     "text": [
      "Enter numbers separated by spaces:  14 5 7 9 8 \n"
     ]
    },
    {
     "name": "stdout",
     "output_type": "stream",
     "text": [
      "14 is Not Prime\n",
      "5 is Prime\n",
      "7 is Prime\n",
      "9 is Not Prime\n",
      "8 is Not Prime\n"
     ]
    }
   ],
   "source": [
    "# 5. Check if each number in a list is prime\n",
    "numbers = list(map(int, input(\"Enter numbers separated by spaces: \").split()))\n",
    "\n",
    "for num in numbers:\n",
    "    if num > 1:\n",
    "        is_prime = True\n",
    "        for i in range(2, num):\n",
    "            if num % i == 0:\n",
    "                is_prime = False\n",
    "                break\n",
    "        if is_prime:\n",
    "            print(num, \"is Prime\")\n",
    "        else:\n",
    "            print(num, \"is Not Prime\")\n",
    "    else:\n",
    "        print(num, \"is Not Prime\")"
   ]
  },
  {
   "cell_type": "code",
   "execution_count": 15,
   "id": "6bc7d216-15f4-45b1-952e-c62f9115fb90",
   "metadata": {},
   "outputs": [
    {
     "name": "stdout",
     "output_type": "stream",
     "text": [
      "Enter a sentence:  Hello it's me Ayush. How are you?\n"
     ]
    },
    {
     "name": "stdout",
     "output_type": "stream",
     "text": [
      "Number of words in sentence:  7\n"
     ]
    }
   ],
   "source": [
    "# 6. Count number of words in a sentence\n",
    "sentence = input(\"Enter a sentence: \")\n",
    "words = sentence.split()\n",
    "count = 0\n",
    "\n",
    "for word in words:\n",
    "    count += 1\n",
    "\n",
    "print(\"Number of words in sentence: \", count)"
   ]
  },
  {
   "cell_type": "code",
   "execution_count": 17,
   "id": "2d884b5d-6dd0-4405-855e-70819bd27ad8",
   "metadata": {},
   "outputs": [
    {
     "name": "stdout",
     "output_type": "stream",
     "text": [
      "Enter a string:  helloolleh\n"
     ]
    },
    {
     "name": "stdout",
     "output_type": "stream",
     "text": [
      "helloolleh String is palindrome.\n"
     ]
    }
   ],
   "source": [
    "# 7. Check if each string is palindrome\n",
    "string = input(\"Enter a string: \").split()\n",
    "\n",
    "for s in string:\n",
    "    if s == s[::-1]:\n",
    "        print(s,\"String is palindrome.\")\n",
    "    else:\n",
    "        print(s,\"String is not palindrome.\")"
   ]
  },
  {
   "cell_type": "code",
   "execution_count": null,
   "id": "a29dc40a-efcd-459d-a0ed-e7d8e8113c98",
   "metadata": {},
   "outputs": [
    {
     "name": "stdout",
     "output_type": "stream",
     "text": [
      "Enter numbers separated by spaces:  14 54 21 745 \n"
     ]
    },
    {
     "name": "stdout",
     "output_type": "stream",
     "text": [
      "Largest number is: 745\n",
      " \n"
     ]
    },
    {
     "name": "stdout",
     "output_type": "stream",
     "text": [
      "Enter a positive integer:  6\n"
     ]
    },
    {
     "name": "stdout",
     "output_type": "stream",
     "text": [
      "Factorial of 6 is: 720\n"
     ]
    }
   ],
   "source": [
    "# While loop\n",
    "'''\n",
    "The while loop repeatedly execute a block of code as long as given condition is true.\n",
    "It's suitable when you don't know the exact number of iterations beforehand, but rather when the loop needs to continue until a certain condition is met.\n",
    "\n",
    "Syntax:\n",
    "while condition:\n",
    "    # Code to execute as long as condition is True\n",
    "    statement_1\n",
    "    statement_2\n",
    "    # ...\n",
    "'''\n",
    "\n",
    "# Example \n",
    "\n",
    "#1. Find the largest number in a list using while loop\n",
    "numbers = list(map(int, input(\"Enter numbers separated by spaces: \").split()))\n",
    "\n",
    "i = 0\n",
    "largest = numbers[0]\n",
    "\n",
    "while i < len(numbers):\n",
    "    if numbers[i] > largest:\n",
    "        largest = numbers[i]\n",
    "    i += 1\n",
    "\n",
    "print(\"Largest number is:\", largest)\n",
    "\n",
    "print(\" \")\n",
    "\n",
    "#2. Factorial of a given positive integer using while loop\n",
    "n = int(input(\"Enter a positive integer: \"))\n",
    "factorial = 1\n",
    "i = 1\n",
    "\n",
    "while i <= n:\n",
    "    factorial *= i\n",
    "    i += 1\n",
    "\n",
    "print(\"Factorial of\", n, \"is:\", factorial)"
   ]
  },
  {
   "cell_type": "code",
   "execution_count": 19,
   "id": "7d9d21ed-cee6-4f34-b4f0-6e496dbbd4d0",
   "metadata": {},
   "outputs": [
    {
     "name": "stdout",
     "output_type": "stream",
     "text": [
      "Enter something (type 'quit' to exit): hlo\n"
     ]
    },
    {
     "name": "stdout",
     "output_type": "stream",
     "text": [
      "You entered: hlo\n"
     ]
    },
    {
     "name": "stdout",
     "output_type": "stream",
     "text": [
      "Enter something (type 'quit' to exit): see\n"
     ]
    },
    {
     "name": "stdout",
     "output_type": "stream",
     "text": [
      "You entered: see\n"
     ]
    },
    {
     "name": "stdout",
     "output_type": "stream",
     "text": [
      "Enter something (type 'quit' to exit): jhvgab'\n"
     ]
    },
    {
     "name": "stdout",
     "output_type": "stream",
     "text": [
      "You entered: jhvgab'\n"
     ]
    },
    {
     "name": "stdout",
     "output_type": "stream",
     "text": [
      "Enter something (type 'quit' to exit): quit\n"
     ]
    },
    {
     "name": "stdout",
     "output_type": "stream",
     "text": [
      "Exiting loop.\n"
     ]
    }
   ],
   "source": [
    "# User input until a specific value\n",
    "user_input = \" \"\n",
    "while user_input != \"quit\":\n",
    "    user_input = input(\"Enter something (type 'quit' to exit):\")\n",
    "    if user_input != \"quit\":\n",
    "        print(f\"You entered: {user_input}\")\n",
    "print(\"Exiting loop.\")"
   ]
  },
  {
   "cell_type": "code",
   "execution_count": 22,
   "id": "ae1be238-4765-405a-991a-47ea3ea6a19e",
   "metadata": {},
   "outputs": [
    {
     "name": "stdout",
     "output_type": "stream",
     "text": [
      "0 apple\n",
      "1 banana\n",
      "2 cherry\n",
      " \n",
      "Rank1:apple\n",
      "Rank2:banana\n",
      "Rank3:cherry\n"
     ]
    }
   ],
   "source": [
    "# for loop with enumerate()\n",
    "'''\n",
    "When iterating through a sequence using a for loop, you often need both the item itself and its index. \n",
    "The enumerate() function is a convenient way to get both at same time.\n",
    "enumerate() adds a counter to an iterable and returns it as an enumarate object.\n",
    "This object then can be used directly in for loops.\n",
    "\n",
    "Syntax\n",
    "\n",
    "for index, item in enumerate(iterable):\n",
    " # code using both index and item\n",
    "index: The current index of the item(starts from 0 by default).\n",
    "item: The current item from the iterable.\n",
    "'''\n",
    "\n",
    "# Example\n",
    "\n",
    "# 1.\n",
    "fruits = [\"apple\", \"banana\", \"cherry\"]\n",
    "for index, fruit in enumerate(fruits):\n",
    "    print(index,fruit)\n",
    "\n",
    "print(\" \")\n",
    "\n",
    "# 2.\n",
    "fruits = [\"apple\", \"banana\", \"cherry\"]\n",
    "for index, fruit in enumerate(fruits, start = 1):\n",
    "    print(f\"Rank{index}:{fruit}\")"
   ]
  },
  {
   "cell_type": "code",
   "execution_count": 26,
   "id": "24490def-eccc-4f57-9394-72ef62adb905",
   "metadata": {},
   "outputs": [
    {
     "name": "stdout",
     "output_type": "stream",
     "text": [
      "Roll no. 1 : Ayush\n",
      "Roll no. 2 : Abhi\n",
      "Roll no. 3 : Anny\n"
     ]
    }
   ],
   "source": [
    "# 3.\n",
    "User = [\"Ayush\", \"Abhi\", \"Anny\"]\n",
    "for index, i in enumerate(User, start = 1):\n",
    "    print(f\"Roll no. {index} : {i}\")"
   ]
  },
  {
   "cell_type": "code",
   "execution_count": 27,
   "id": "5868e1e1-4a93-4b61-ab5c-3e1f2e739fa6",
   "metadata": {},
   "outputs": [
    {
     "name": "stdout",
     "output_type": "stream",
     "text": [
      "1\n",
      "2\n",
      "3\n",
      "4\n",
      "Breaking loop at 5\n",
      "Loop finished.\n"
     ]
    }
   ],
   "source": [
    "# Transfer statements\n",
    "'''\n",
    "-> Transfer statement allow you to alter the normal flow of loop.\n",
    "\n",
    "Break statement\n",
    "-> The break statement immediately terminates the loop.\n",
    "-> Program execution then continues with the statement immediately following the loop.\n",
    "'''\n",
    "\n",
    "# Example\n",
    "for i in range(1,10):\n",
    "    if i == 5:\n",
    "        print(\"Breaking loop at 5\")\n",
    "        break\n",
    "    print (i)\n",
    "print(\"Loop finished.\")"
   ]
  },
  {
   "cell_type": "code",
   "execution_count": null,
   "id": "0efa295a-627d-4f32-97cc-9fb01f096b2d",
   "metadata": {},
   "outputs": [
    {
     "name": "stdout",
     "output_type": "stream",
     "text": [
      "Current number: 1\n",
      "Current number: 2\n",
      "Skipping 3!\n",
      "Current number: 4\n",
      "Current number: 5\n",
      "Loop finished.\n"
     ]
    }
   ],
   "source": [
    "# Continue Statement \n",
    "'''\n",
    "The continue statement skips the rest of the code in the current iteration of the loop and moves to the next iteration.\n",
    "The loop does not terminate; it just bypasses the remaining code for the current pass.\n",
    "'''\n",
    "# Example\n",
    "for i in range(1, 6):\n",
    "    if i == 3:\n",
    "        print('Skipping 3!')\n",
    "        continue # Skip the rest of the loop body for i=3\n",
    "    print('Current number:', i)\n",
    "print('Loop finished.')"
   ]
  },
  {
   "cell_type": "code",
   "execution_count": null,
   "id": "427a41fb-9205-4675-9a1d-cd4b593fa9c1",
   "metadata": {},
   "outputs": [
    {
     "name": "stdout",
     "output_type": "stream",
     "text": [
      "Not yet an adult\n"
     ]
    }
   ],
   "source": [
    "# Pass statement\n",
    "'''\n",
    "The pass statement is a null operation; nothing happens when it executes. \n",
    "It is often used as a placeholder where a statement is syntactically required but you don't want any code to execute yet. \n",
    "It's useful for defining empty functions, classes, or conditional/loop bodies.\n",
    "'''\n",
    "# Example\n",
    "age = 15\n",
    "if age >= 18:\n",
    "    pass\n",
    "else:\n",
    "    print(\"Not yet an adult\")"
   ]
  },
  {
   "cell_type": "code",
   "execution_count": null,
   "id": "68d99359-702a-4840-a98a-b8e52adc28d5",
   "metadata": {},
   "outputs": [
    {
     "name": "stdout",
     "output_type": "stream",
     "text": [
      "Enter a number (0 to stop):  15\n",
      "Enter a number (0 to stop):  56\n",
      "Enter a number (0 to stop):  0\n"
     ]
    },
    {
     "name": "stdout",
     "output_type": "stream",
     "text": [
      "Total sum of numbers: 71\n"
     ]
    }
   ],
   "source": [
    "# Question 1\n",
    "'''\n",
    "Write a while loop that prompts the user to enter numbers repeatedly. The loop should stop when the user enters the number 0. After the loop ends, print the total sum of all the numbers entered (excluding the final 0).\n",
    "'''\n",
    "total = 0\n",
    "\n",
    "while True:\n",
    "    num = int(input(\"Enter a number (0 to stop): \"))\n",
    "    if num == 0:\n",
    "        break\n",
    "    total += num\n",
    "\n",
    "print(\"Total sum of numbers:\",total)"
   ]
  },
  {
   "cell_type": "code",
   "execution_count": null,
   "id": "0253a5b6-688f-4bd9-9870-17c5741422d0",
   "metadata": {},
   "outputs": [
    {
     "name": "stdout",
     "output_type": "stream",
     "text": [
      "1 Laptop\n",
      "2 Mouse\n",
      "3 Keyboard\n",
      "4 Monitor\n"
     ]
    }
   ],
   "source": [
    "# Question 2\n",
    "'''\n",
    "Use a for loop with enumerate() to iterate through the following list and print each item along with its position (starting from 1). items = [\"Laptop\", \"Mouse\", \"Keyboard\", \"Monitor\"]\n",
    "'''\n",
    "items = [\"Laptop\", \"Mouse\", \"Keyboard\", \"Monitor\"]\n",
    "\n",
    "for i, item in enumerate(items, start=1):\n",
    "    print(i,item)"
   ]
  },
  {
   "cell_type": "code",
   "execution_count": null,
   "id": "e905a7c2-32e2-4c1c-a1c6-86431fbb1209",
   "metadata": {},
   "outputs": [
    {
     "name": "stdout",
     "output_type": "stream",
     "text": [
      "1\n",
      "2\n",
      "3\n",
      "5\n",
      "6\n"
     ]
    }
   ],
   "source": [
    "# Question 3\n",
    "'''\n",
    "Write a for loop that iterates through numbers from 1 to 10. * If the number is 4, use continue to skip printing it. * If the number is 7, use break to stop the loop entirely. Print the numbers that are not skipped or stopped.\n",
    "'''\n",
    "for num in range(1, 11):\n",
    "    if num == 4:\n",
    "        continue\n",
    "    if num == 7:\n",
    "        break\n",
    "    print(num)"
   ]
  },
  {
   "cell_type": "code",
   "execution_count": 37,
   "id": "61f0d4b9-db23-452e-a5d3-1e810f49d198",
   "metadata": {},
   "outputs": [
    {
     "name": "stdout",
     "output_type": "stream",
     "text": [
      "Enter number of rows:  5\n"
     ]
    },
    {
     "name": "stdout",
     "output_type": "stream",
     "text": [
      "* \n",
      "* * \n",
      "* * * \n",
      "* * * * \n",
      "* * * * * \n",
      "\n"
     ]
    },
    {
     "name": "stdout",
     "output_type": "stream",
     "text": [
      "Enter number of rows:  5\n"
     ]
    },
    {
     "name": "stdout",
     "output_type": "stream",
     "text": [
      "* * * * * \n",
      "* * * * \n",
      "* * * \n",
      "* * \n",
      "* \n"
     ]
    }
   ],
   "source": [
    "# Pattern printing\n",
    "\n",
    "# Right angle triangle\n",
    "rows = int(input(\"Enter number of rows: \"))\n",
    "for i in range(1, rows + 1):\n",
    "    print(\"* \" * i)\n",
    "\n",
    "print(\"\")\n",
    "\n",
    "# Inverted Right angle triangle\n",
    "rows = int(input(\"Enter number of rows: \"))\n",
    "for i in range(rows, 0, -1):\n",
    "    print(\"* \" * i)"
   ]
  },
  {
   "cell_type": "code",
   "execution_count": 38,
   "id": "a6b430de-0b81-4be5-9bc5-03a1552de2bd",
   "metadata": {},
   "outputs": [
    {
     "name": "stdout",
     "output_type": "stream",
     "text": [
      "Enter number of rows:  5\n"
     ]
    },
    {
     "name": "stdout",
     "output_type": "stream",
     "text": [
      "    *\n",
      "   **\n",
      "  ***\n",
      " ****\n",
      "*****\n"
     ]
    }
   ],
   "source": [
    "# Right-Aligned Triangle\n",
    "rows = int(input(\"Enter number of rows: \"))\n",
    "for i in range(1, rows + 1):\n",
    "    print(\" \" * (rows - i) + \"*\" * i)"
   ]
  },
  {
   "cell_type": "code",
   "execution_count": 39,
   "id": "e3320d34-085c-4e58-bdfc-0adf37662b13",
   "metadata": {},
   "outputs": [
    {
     "name": "stdout",
     "output_type": "stream",
     "text": [
      "Enter number of rows:  6\n"
     ]
    },
    {
     "name": "stdout",
     "output_type": "stream",
     "text": [
      "     *\n",
      "    ***\n",
      "   *****\n",
      "  *******\n",
      " *********\n",
      "***********\n"
     ]
    }
   ],
   "source": [
    "# Pyramid Pattern\n",
    "rows = int(input(\"Enter number of rows: \"))\n",
    "for i in range(1, rows + 1):\n",
    "    print(\" \" * (rows - i) + \"*\" * (2 * i - 1))"
   ]
  },
  {
   "cell_type": "code",
   "execution_count": 40,
   "id": "f8ce43f7-29de-4236-9f37-7fb2105cb198",
   "metadata": {},
   "outputs": [
    {
     "name": "stdout",
     "output_type": "stream",
     "text": [
      "Enter number of rows:  5\n"
     ]
    },
    {
     "name": "stdout",
     "output_type": "stream",
     "text": [
      "*********\n",
      " *******\n",
      "  *****\n",
      "   ***\n",
      "    *\n"
     ]
    }
   ],
   "source": [
    "# Inverted Pyramid\n",
    "rows = int(input(\"Enter number of rows: \"))\n",
    "for i in range(rows, 0, -1):\n",
    "    print(\" \" * (rows - i) + \"*\" * (2 * i - 1))\n"
   ]
  },
  {
   "cell_type": "code",
   "execution_count": 50,
   "id": "4e31c910-d91e-4a81-a9fc-d28934763013",
   "metadata": {},
   "outputs": [
    {
     "name": "stdout",
     "output_type": "stream",
     "text": [
      "Enter number of rows:  3\n"
     ]
    },
    {
     "name": "stdout",
     "output_type": "stream",
     "text": [
      "  *\n",
      " ***\n",
      "*****\n",
      " ***\n",
      "  *\n"
     ]
    }
   ],
   "source": [
    "# Diamond pattern\n",
    "rows = int(input(\"Enter number of rows: \"))\n",
    "for i in range(1, rows + 1):\n",
    "    print(\" \" * (rows - i) + \"*\" * (2 * i - 1))\n",
    "for i in range(rows - 1, 0, -1):\n",
    "    print(\" \" * (rows - i) + \"*\" * (2 * i - 1))"
   ]
  },
  {
   "cell_type": "code",
   "execution_count": 51,
   "id": "243711e0-7c02-48ee-8360-f2ecf4a6939f",
   "metadata": {},
   "outputs": [
    {
     "name": "stdout",
     "output_type": "stream",
     "text": [
      "Enter number of rows:  5\n",
      "Enter number of columns:  5\n"
     ]
    },
    {
     "name": "stdout",
     "output_type": "stream",
     "text": [
      "*****\n",
      "*   *\n",
      "*   *\n",
      "*   *\n",
      "*****\n"
     ]
    }
   ],
   "source": [
    "# Hollow rectangle\n",
    "rows = int(input(\"Enter number of rows: \"))\n",
    "cols = int(input(\"Enter number of columns: \"))\n",
    "\n",
    "for i in range(rows):\n",
    "    for j in range(cols):\n",
    "        if i == 0 or i == rows - 1 or j == 0 or j == cols - 1:\n",
    "            print(\"*\", end=\"\")\n",
    "        else:\n",
    "            print(\" \", end=\"\")\n",
    "    print()"
   ]
  },
  {
   "cell_type": "code",
   "execution_count": null,
   "id": "057ceed8-1148-42cb-8ee7-b907f3a1e617",
   "metadata": {},
   "outputs": [],
   "source": []
  }
 ],
 "metadata": {
  "kernelspec": {
   "display_name": "Python [conda env:base] *",
   "language": "python",
   "name": "conda-base-py"
  },
  "language_info": {
   "codemirror_mode": {
    "name": "ipython",
    "version": 3
   },
   "file_extension": ".py",
   "mimetype": "text/x-python",
   "name": "python",
   "nbconvert_exporter": "python",
   "pygments_lexer": "ipython3",
   "version": "3.13.5"
  }
 },
 "nbformat": 4,
 "nbformat_minor": 5
}
