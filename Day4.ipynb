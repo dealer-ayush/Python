{
 "cells": [
  {
   "cell_type": "code",
   "execution_count": 3,
   "id": "92509dc2-02f8-47cf-95a7-d93ba8f48af4",
   "metadata": {},
   "outputs": [
    {
     "name": "stdin",
     "output_type": "stream",
     "text": [
      "Enter your name: Ayush\n"
     ]
    },
    {
     "name": "stdout",
     "output_type": "stream",
     "text": [
      "Hello Ayush\n",
      "Ayush <class 'str'>\n"
     ]
    }
   ],
   "source": [
    "# Input\n",
    "'''\n",
    "The input() function is used to get input from the user via keyboard.\n",
    "It reads a line from input converts it to a string and retrn it.\n",
    "\n",
    "Stntax\n",
    "\n",
    "input([prompt])\n",
    "'''\n",
    "\n",
    "name = input(\"Enter your name:\")\n",
    "print(f\"Hello {name}\")\n",
    "print(name, type(name))"
   ]
  },
  {
   "cell_type": "code",
   "execution_count": 10,
   "id": "4edd4c20-6a79-495a-817f-4fbd15a547dc",
   "metadata": {},
   "outputs": [
    {
     "name": "stdin",
     "output_type": "stream",
     "text": [
      "Enter two numbers: 1,2\n"
     ]
    },
    {
     "name": "stdout",
     "output_type": "stream",
     "text": [
      "['1,2'] <class 'list'>\n"
     ]
    }
   ],
   "source": [
    "# Input Methods\n",
    "\n",
    "# 1.> Inputting multiple values [often handled by splitting the input string].\n",
    "\n",
    "x = input(\"Enter two numbers:\")\n",
    "list = x.split()\n",
    "print(list, type(list))"
   ]
  },
  {
   "cell_type": "code",
   "execution_count": 16,
   "id": "6aa49321-6575-4360-ad44-4bc7858ae52f",
   "metadata": {},
   "outputs": [
    {
     "name": "stdin",
     "output_type": "stream",
     "text": [
      "Enter two numbers separated by a space: 1 2\n"
     ]
    },
    {
     "name": "stdout",
     "output_type": "stream",
     "text": [
      "First number: 1, Second number: 2\n",
      "Sum = 3\n"
     ]
    }
   ],
   "source": [
    "numbers_str = input(\"Enter two numbers separated by a space:\")\n",
    "num_list_str = numbers_str.split()\n",
    "num1 = int(num_list_str[0])\n",
    "num2 = int(num_list_str[1])\n",
    "print(f\"First number: {num1}, Second number: {num2}\")\n",
    "print(f\"Sum = {num1 + num2}\")"
   ]
  },
  {
   "cell_type": "code",
   "execution_count": 14,
   "id": "a78852cb-f91d-412d-8466-bf7623fcc8d4",
   "metadata": {},
   "outputs": [
    {
     "name": "stdin",
     "output_type": "stream",
     "text": [
      "Enter two numbers 1 2\n"
     ]
    },
    {
     "name": "stdout",
     "output_type": "stream",
     "text": [
      "1 2\n"
     ]
    }
   ],
   "source": [
    "x,y = map(int, input(\"Enter two numbers\").split())\n",
    "print(x,y)"
   ]
  },
  {
   "cell_type": "code",
   "execution_count": 17,
   "id": "b72c0e07-4696-4e5a-8ad7-dc69dff13656",
   "metadata": {},
   "outputs": [
    {
     "name": "stdin",
     "output_type": "stream",
     "text": [
      "Enter two number: 1 2 \n"
     ]
    },
    {
     "name": "stdout",
     "output_type": "stream",
     "text": [
      "First number :1, Second number : 2\n"
     ]
    }
   ],
   "source": [
    "x,y = map(int, input(\"Enter two number:\").split())\n",
    "print(f\"First number :{x}, Second number : {y}\")"
   ]
  },
  {
   "cell_type": "code",
   "execution_count": 28,
   "id": "36e3c020-104e-43c9-b954-d64f91493236",
   "metadata": {},
   "outputs": [
    {
     "name": "stdout",
     "output_type": "stream",
     "text": [
      "9\n",
      "5\n",
      "150\n"
     ]
    }
   ],
   "source": [
    "# 2.> eval() method\n",
    "'''\n",
    "Syntax\n",
    "\n",
    "eval(expression, global=none, local=none)\n",
    "\n",
    "*global and local are optional.\n",
    "'''\n",
    "\n",
    "# Use of eval()\n",
    "x= 4\n",
    "print(eval(\"x+5\"))\n",
    "\n",
    "# Find minimum of three number\n",
    "print(eval(\"min(11,5,32)\"))  #same for maximum\n",
    "\n",
    "# using global and local\n",
    "a = 5\n",
    "print(eval(\"a*b\", {\"b\":10}, {\"a\":15})) "
   ]
  },
  {
   "cell_type": "code",
   "execution_count": 27,
   "id": "f95d8b2a-ab61-4e31-909d-2ace52f29bf7",
   "metadata": {},
   "outputs": [
    {
     "name": "stdout",
     "output_type": "stream",
     "text": [
      "2\n"
     ]
    }
   ],
   "source": [
    "# use of eval()\n",
    "a = 11\n",
    "b = 12\n",
    "print(eval(\"a*b\", {\"a\":10, \"b\":20}, {\"a\":1, \"b\":2}))"
   ]
  },
  {
   "cell_type": "code",
   "execution_count": 31,
   "id": "dc1d5116-a17d-43ee-8b20-1a3e07f79525",
   "metadata": {},
   "outputs": [
    {
     "name": "stdout",
     "output_type": "stream",
     "text": [
      "Hello World\n",
      "apple,banana,cherry\n",
      "user@domain@com\n",
      "Typing...Done!\n",
      "apple,banana,cherry...Done!\n"
     ]
    }
   ],
   "source": [
    "# Formats of print() function\n",
    "'''\n",
    "The print() function is used to display to the console. \n",
    "It has several parameters that allows for flexible formatting.\n",
    "'''\n",
    "\n",
    "print(\"Hello\",\"World\")\n",
    "\n",
    "# Using sep parameter\n",
    "# using sep changes line and seperate each item by given value\n",
    "print(\"apple\", \"banana\", \"cherry\", sep=\",\")    #seperate string by comma\n",
    "print(\"user\", \"domain\", \"com\", sep=\"@\")    #seperate  string by @\n",
    "\n",
    "#using end parameter\n",
    "# using end merge two lines\n",
    "# end also use \\n\n",
    "print(\"Typing\", end=\"...\")\n",
    "print(\"Done!\")\n",
    "\n",
    "#using sep and end both\n",
    "print(\"apple\", \"banana\", \"cherry\", sep=\",\", end=\"...\")\n",
    "print(\"Done!\")"
   ]
  },
  {
   "cell_type": "code",
   "execution_count": 34,
   "id": "98011110-361e-41f5-8f4d-3b584730c692",
   "metadata": {},
   "outputs": [
    {
     "name": "stdin",
     "output_type": "stream",
     "text": [
      "Enter any mathematical expression 15+23\n"
     ]
    },
    {
     "name": "stdout",
     "output_type": "stream",
     "text": [
      "Result of expression = 38\n",
      "[10, 20, 30] <class 'list'>\n"
     ]
    }
   ],
   "source": [
    "# Use cases\n",
    "\n",
    "# 1.) \n",
    "str = input(\"Enter any mathematical expression\")\n",
    "exp = eval(str)\n",
    "print(f\"Result of expression = {exp}\")\n",
    "\n",
    "# 2.)\n",
    "list = \"[10, 20, 30]\"\n",
    "list1 = eval(list)\n",
    "print(list1, type(list1))"
   ]
  },
  {
   "cell_type": "code",
   "execution_count": 50,
   "id": "7d6e0daf-04a9-4d1e-b323-1bb32e497cf7",
   "metadata": {},
   "outputs": [
    {
     "name": "stdout",
     "output_type": "stream",
     "text": [
      "30\n",
      "20\n",
      "125\n",
      "5.0\n",
      "0\n",
      "5\n",
      "9765625\n"
     ]
    }
   ],
   "source": [
    "# Operators\n",
    "\n",
    "#Arithematic Operators\n",
    "\n",
    "a = 25\n",
    "b = 5\n",
    "print(a+b)   #addition\n",
    "print(a-b)   #subtraction\n",
    "print(a*b)   #multiplication\n",
    "print(a/b)   #division\n",
    "print(a%b)   #modulus\n",
    "print(a//b)  #floor division(discard fractional part)\n",
    "print(a**b)  #exponential"
   ]
  },
  {
   "cell_type": "code",
   "execution_count": 56,
   "id": "ab7af09e-6f24-4656-a86f-b821c120ec5b",
   "metadata": {},
   "outputs": [
    {
     "name": "stdin",
     "output_type": "stream",
     "text": [
      "Enter any two numbers 12 15\n"
     ]
    },
    {
     "name": "stdout",
     "output_type": "stream",
     "text": [
      "First number :12, Second number : 15\n",
      "a==b : False\n",
      "a!=b : True\n",
      "a>b : False\n",
      "a<b : True\n",
      "a>=b : False\n",
      "a<=b : True\n"
     ]
    }
   ],
   "source": [
    "# Comparision Operators\n",
    "\n",
    "a,b = map(int, input(\"Enter any two numbers\").split())\n",
    "print(f\"First number :{a}, Second number : {b}\")\n",
    "print(f\"a==b : {a==b}\")  #equal\n",
    "print(f\"a!=b : {a!=b}\")  #not equal\n",
    "print(f\"a>b : {a>b}\")    #greater than\n",
    "print(f\"a<b : {a<b}\")    #less than\n",
    "print(f\"a>=b : {a>=b}\")  #greater than or equal to\n",
    "print(f\"a<=b : {a<=b}\")  #less than or equal to"
   ]
  },
  {
   "cell_type": "code",
   "execution_count": 55,
   "id": "74f492b3-a612-4a91-b482-954e7209c2ad",
   "metadata": {},
   "outputs": [
    {
     "name": "stdout",
     "output_type": "stream",
     "text": [
      "is eligible to drive(age>18 and has_licence)? True\n",
      "is a student or employee? True\n",
      "is it not raining? True\n"
     ]
    }
   ],
   "source": [
    "# Logical Operators\n",
    "# and, or, not\n",
    "\n",
    "# and operator\n",
    "age = 25\n",
    "has_licence = True\n",
    "print(f\"is eligible to drive(age>18 and has_licence)? {age>18 and has_licence}\")\n",
    "\n",
    "# or operator\n",
    "\n",
    "is_student = False\n",
    "is_employee = True\n",
    "print(f\"is a student or employee? {is_student or is_employee}\")\n",
    "\n",
    "# not operator\n",
    "\n",
    "is_raining = False\n",
    "print(f\"is it not raining? {not is_raining}\")"
   ]
  },
  {
   "cell_type": "code",
   "execution_count": 69,
   "id": "348a163d-aab2-452f-a179-b46a09ed2ae1",
   "metadata": {},
   "outputs": [
    {
     "name": "stdout",
     "output_type": "stream",
     "text": [
      "p&q = 1\n",
      "p|q = 7\n",
      "p^q = 6\n",
      "~q = -4\n",
      "p<<2 = 20\n",
      "q>>1 = 1\n"
     ]
    }
   ],
   "source": [
    "# Bitwise Operators\n",
    "'''\n",
    "1> Bitwise AND  : &\n",
    "2> Bitwise OR   : |\n",
    "3> Bitwise XOR  : ^\n",
    "4> Bitwise NOT  : ~\n",
    "5> Left shift   : <<\n",
    "6> Right shift  : >>\n",
    "'''\n",
    "p = 5\n",
    "q = 3\n",
    "print(f\"p&q = {p&q}\")\n",
    "print(f\"p|q = {p|q}\")\n",
    "print(f\"p^q = {p^q}\")\n",
    "print(f\"~q = {~q}\")\n",
    "print(f\"p<<2 = {p<<2}\")\n",
    "print(f\"q>>1 = {q>>1}\")"
   ]
  },
  {
   "cell_type": "code",
   "execution_count": 76,
   "id": "4d0c05ea-279f-4754-9239-cd2baa498578",
   "metadata": {},
   "outputs": [
    {
     "name": "stdin",
     "output_type": "stream",
     "text": [
      "Enter first real number:  3\n",
      "Enter second real number:  5\n"
     ]
    },
    {
     "name": "stdout",
     "output_type": "stream",
     "text": [
      "\n",
      "Integer values: a = 3, b = 5\n",
      "Binary of a: 0b11\n",
      "Binary of b: 0b101\n",
      "\n",
      "Bitwise AND (a & b): 1 -> 0b1\n",
      "Bitwise OR (a | b): 7 -> 0b111\n",
      "Bitwise XOR (a ^ b): 6 -> 0b110\n",
      "Bitwise NOT (~a): -4 -> -0b100\n",
      "Bitwise NOT (~b): -6 -> -0b110\n"
     ]
    }
   ],
   "source": [
    "# Input two real numbers\n",
    "num1 = input(\"Enter first real number: \")\n",
    "num2 = input(\"Enter second real number: \")\n",
    "\n",
    "# Convert to integers\n",
    "a = int(num1)\n",
    "b = int(num2)\n",
    "\n",
    "# Display binary representation\n",
    "print(f\"\\nInteger values: a = {a}, b = {b}\")\n",
    "print(f\"Binary of a: {bin(a)}\")\n",
    "print(f\"Binary of b: {bin(b)}\")\n",
    "\n",
    "# Bitwise AND\n",
    "and_result = a & b\n",
    "print(f\"\\nBitwise AND (a & b): {and_result} -> {bin(and_result)}\")\n",
    "\n",
    "# Bitwise OR\n",
    "or_result = a | b\n",
    "print(f\"Bitwise OR (a | b): {or_result} -> {bin(or_result)}\")\n",
    "\n",
    "# Bitwise XOR\n",
    "xor_result = a ^ b\n",
    "print(f\"Bitwise XOR (a ^ b): {xor_result} -> {bin(xor_result)}\")\n",
    "\n",
    "# Bitwise NOT\n",
    "not_a = ~a\n",
    "not_b = ~b\n",
    "print(f\"Bitwise NOT (~a): {not_a} -> {bin(not_a)}\")\n",
    "print(f\"Bitwise NOT (~b): {not_b} -> {bin(not_b)}\")"
   ]
  },
  {
   "cell_type": "code",
   "execution_count": null,
   "id": "bafd8c9c-6a33-4cb5-8fd2-ec1970404293",
   "metadata": {},
   "outputs": [],
   "source": [
    "# Exercise"
   ]
  },
  {
   "cell_type": "code",
   "execution_count": 78,
   "id": "77d11898-dfe8-458f-b021-de8f330a0c37",
   "metadata": {},
   "outputs": [
    {
     "name": "stdout",
     "output_type": "stream",
     "text": [
      "3\n",
      "16\n",
      "2\n",
      "True\n"
     ]
    }
   ],
   "source": [
    "print(17//5)\n",
    "print(2**4)\n",
    "print(20%6)\n",
    "print((True and False)or(not False))"
   ]
  },
  {
   "cell_type": "code",
   "execution_count": 79,
   "id": "c899101a-95ee-414b-9eb5-bcd8d7bd1283",
   "metadata": {},
   "outputs": [
    {
     "name": "stdin",
     "output_type": "stream",
     "text": [
      "Enter first number:  25\n",
      "Enter second number:  63\n"
     ]
    },
    {
     "name": "stdout",
     "output_type": "stream",
     "text": [
      "num1 >= num2 :  False\n",
      "num1 <= num2 :  True\n"
     ]
    }
   ],
   "source": [
    "num1 = input(\"Enter first number: \")\n",
    "num2 = input(\"Enter second number: \")\n",
    "print(\"num1 >= num2 : \", num1 >= num2)\n",
    "print(\"num1 <= num2 : \", num1 <= num2)"
   ]
  },
  {
   "cell_type": "code",
   "execution_count": 80,
   "id": "5fde5d5f-bba9-4b92-a668-496e10e3554c",
   "metadata": {},
   "outputs": [
    {
     "name": "stdout",
     "output_type": "stream",
     "text": [
      "8 & 3 = 0\n",
      "8 | 3 = 11\n"
     ]
    }
   ],
   "source": [
    "print(\"8 & 3 =\", 8&3)\n",
    "print(\"8 | 3 =\", 8|3)"
   ]
  },
  {
   "cell_type": "code",
   "execution_count": 83,
   "id": "fb490caf-489f-4229-9b2a-343b1825c3b0",
   "metadata": {},
   "outputs": [
    {
     "name": "stdin",
     "output_type": "stream",
     "text": [
      "Enter first number:  21\n",
      "Enter second number:  41\n",
      "Enter third number:  56\n"
     ]
    },
    {
     "name": "stdout",
     "output_type": "stream",
     "text": [
      "Average =  39.333333333333336\n"
     ]
    }
   ],
   "source": [
    "n1 = input(\"Enter first number: \")\n",
    "n2 = input(\"Enter second number: \")\n",
    "n3 = input(\"Enter third number: \")\n",
    "a = int(n1)\n",
    "b = int(n2)\n",
    "c = int(n3)\n",
    "avg = (a+b+c)/3\n",
    "print(\"Average = \", avg)"
   ]
  },
  {
   "cell_type": "code",
   "execution_count": 84,
   "id": "eb971e6f-32ad-410e-ae99-5dd3f79ca02d",
   "metadata": {},
   "outputs": [
    {
     "name": "stdout",
     "output_type": "stream",
     "text": [
      "is_sunny and is_warm :  False\n",
      "is_sunny or is_warm :  True\n",
      "not is_warm : True\n"
     ]
    }
   ],
   "source": [
    "is_sunny = True\n",
    "is_warm = False\n",
    "print(\"is_sunny and is_warm : \", is_sunny and is_warm )\n",
    "print(\"is_sunny or is_warm : \", is_sunny or is_warm )\n",
    "print(\"not is_warm :\", not is_warm) "
   ]
  },
  {
   "cell_type": "code",
   "execution_count": 88,
   "id": "1ee2a715-a369-40ef-a9e0-bc4835cde0e4",
   "metadata": {},
   "outputs": [
    {
     "name": "stdin",
     "output_type": "stream",
     "text": [
      "Enter your age :  85\n"
     ]
    },
    {
     "name": "stdout",
     "output_type": "stream",
     "text": [
      "Not Eligible\n"
     ]
    }
   ],
   "source": [
    "age = int(input(\"Enter your age : \"))\n",
    "result = {True : \"Eligible\", False : \"Not Eligible\"}\n",
    "print(result[18<age<65])"
   ]
  },
  {
   "cell_type": "code",
   "execution_count": null,
   "id": "d5fd3e66-68be-48fa-b2ec-e8c87c4028a1",
   "metadata": {},
   "outputs": [],
   "source": []
  }
 ],
 "metadata": {
  "kernelspec": {
   "display_name": "Python [conda env:base] *",
   "language": "python",
   "name": "conda-base-py"
  },
  "language_info": {
   "codemirror_mode": {
    "name": "ipython",
    "version": 3
   },
   "file_extension": ".py",
   "mimetype": "text/x-python",
   "name": "python",
   "nbconvert_exporter": "python",
   "pygments_lexer": "ipython3",
   "version": "3.13.5"
  }
 },
 "nbformat": 4,
 "nbformat_minor": 5
}
