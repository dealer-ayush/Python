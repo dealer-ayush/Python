{
  "cells": [
    {
      "cell_type": "code",
      "execution_count": 2,
      "id": "1bfe541e-e34b-4068-b7aa-aee191259973",
      "metadata": {
        "trusted": true
      },
      "outputs": [
        {
          "name": "stdout",
          "output_type": "stream",
          "text": [
            "HELLO WORLD!\n"
          ]
        }
      ],
      "source": [
        "# Example of decorator\n",
        "\n",
        "def make_uppercase(func):\n",
        "# Convert the function's result to uppercase.\n",
        "    def wrapper(*args, **kwargs):\n",
        "        result = func(*args, **kwargs)\n",
        "        return result.upper()\n",
        "    return wrapper\n",
        "def add_exclamation(func):\n",
        "# Adds an exclamation mark to the end of the function's result.\n",
        "    def wrapper(*args, **kwargs):\n",
        "        result = func(*args, **kwargs)\n",
        "        return result + \"!\"\n",
        "    return wrapper\n",
        "@add_exclamation    # Applied second, execute first (outermost wrapper)\n",
        "@make_uppercase     # Applied first, execute second (innermost wrapper)\n",
        "def get_message(msg):\n",
        "    return msg\n",
        "print(get_message(\"hello world\"))"
      ]
    },
    {
      "cell_type": "code",
      "execution_count": 6,
      "id": "40750400-0639-4c37-b11b-d0f5a4a79658",
      "metadata": {
        "trusted": true
      },
      "outputs": [
        {
          "name": "stdout",
          "output_type": "stream",
          "text": [
            "add_5(7): 12\n",
            "add_10(7): 17\n"
          ]
        }
      ],
      "source": [
        "# Closures: create_adder\n",
        "def create_adder(x):\n",
        "    def add_x(y):\n",
        "        return x + y\n",
        "    return add_x\n",
        "\n",
        "add_5 = create_adder(5)\n",
        "add_10 = create_adder(10)\n",
        "\n",
        "print(\"add_5(7):\", add_5(7))   # Should print 12\n",
        "print(\"add_10(7):\", add_10(7)) # Should print 17"
      ]
    },
    {
      "cell_type": "code",
      "execution_count": 8,
      "id": "20c621f6-86ff-4b06-ad0c-5ce1902f0fc1",
      "metadata": {
        "trusted": true
      },
      "outputs": [
        {
          "name": "stdout",
          "output_type": "stream",
          "text": [
            "Task completed!\n",
            "Execution time: 2.0000 seconds\n"
          ]
        }
      ],
      "source": [
        "# Time decorator\n",
        "import time\n",
        "\n",
        "\n",
        "def timing_decorator(func):\n",
        "    def wrapper(*args, **kwargs):\n",
        "        start_time = time.time()\n",
        "        result = func(*args, **kwargs)\n",
        "        end_time = time.time()\n",
        "        print(f\"Execution time: {end_time - start_time:.4f} seconds\")\n",
        "        return result\n",
        "    return wrapper\n",
        "\n",
        "@timing_decorator\n",
        "def long_running_task():\n",
        "    time.sleep(2)\n",
        "    print(\"Task completed!\")\n",
        "\n",
        "long_running_task()"
      ]
    },
    {
      "cell_type": "code",
      "execution_count": 7,
      "id": "c0f37522-fe6b-4f50-8ffb-a33dba47a542",
      "metadata": {
        "trusted": true
      },
      "outputs": [
        {
          "name": "stdout",
          "output_type": "stream",
          "text": [
            "Authentication failed!\n"
          ]
        }
      ],
      "source": [
        "# Authentication Required Decorator\n",
        "is_authenticated = False  \n",
        "\n",
        "def authentication_required(func):\n",
        "    def wrapper(*args, **kwargs):\n",
        "        if not is_authenticated:\n",
        "            print(\"Authentication failed!\")\n",
        "            return\n",
        "        return func(*args, **kwargs)\n",
        "    return wrapper\n",
        "\n",
        "@authentication_required\n",
        "def protected_action():\n",
        "    print(\"Protected action executed!\")\n",
        "\n",
        "protected_action()"
      ]
    },
    {
      "cell_type": "code",
      "execution_count": 1,
      "id": "8a20025f-d4a0-4d7a-a7c6-721563ecda3a",
      "metadata": {
        "trusted": true
      },
      "outputs": [
        {
          "name": "stdout",
          "output_type": "stream",
          "text": [
            "\n",
            "Main Menu:\n",
            "1. Check Balance\n",
            "2. Deposit Money\n",
            "3. Withdraw Money\n",
            "4. View Transaction History\n",
            "5. Exit\n"
          ]
        },
        {
          "name": "stdout",
          "output_type": "stream",
          "text": [
            "Enter your choice (1-5):  1\n"
          ]
        },
        {
          "name": "stdout",
          "output_type": "stream",
          "text": [
            "Current Balance: ₹0\n",
            "\n",
            "Main Menu:\n",
            "1. Check Balance\n",
            "2. Deposit Money\n",
            "3. Withdraw Money\n",
            "4. View Transaction History\n",
            "5. Exit\n"
          ]
        },
        {
          "name": "stdout",
          "output_type": "stream",
          "text": [
            "Enter your choice (1-5):  2\n",
            "Enter amount to deposit:  41250\n"
          ]
        },
        {
          "name": "stdout",
          "output_type": "stream",
          "text": [
            "Deposit successful! New Balance: ₹41250.0\n",
            "\n",
            "Main Menu:\n",
            "1. Check Balance\n",
            "2. Deposit Money\n",
            "3. Withdraw Money\n",
            "4. View Transaction History\n",
            "5. Exit\n"
          ]
        },
        {
          "name": "stdout",
          "output_type": "stream",
          "text": [
            "Enter your choice (1-5):  2520\n"
          ]
        },
        {
          "name": "stdout",
          "output_type": "stream",
          "text": [
            "Invalid choice! Please select an option from 1 to 5.\n",
            "\n",
            "Main Menu:\n",
            "1. Check Balance\n",
            "2. Deposit Money\n",
            "3. Withdraw Money\n",
            "4. View Transaction History\n",
            "5. Exit\n"
          ]
        },
        {
          "name": "stdout",
          "output_type": "stream",
          "text": [
            "Enter your choice (1-5):  2\n",
            "Enter amount to deposit:  520\n"
          ]
        },
        {
          "name": "stdout",
          "output_type": "stream",
          "text": [
            "Deposit successful! New Balance: ₹41770.0\n",
            "\n",
            "Main Menu:\n",
            "1. Check Balance\n",
            "2. Deposit Money\n",
            "3. Withdraw Money\n",
            "4. View Transaction History\n",
            "5. Exit\n"
          ]
        },
        {
          "name": "stdout",
          "output_type": "stream",
          "text": [
            "Enter your choice (1-5):  5\n"
          ]
        },
        {
          "name": "stdout",
          "output_type": "stream",
          "text": [
            "Exiting. Thank you for using the banking system.\n"
          ]
        }
      ],
      "source": [
        "# ATM machine code\n",
        "\n",
        "\n",
        "# Initial Setup\n",
        "balance = 0\n",
        "transaction_history = []\n",
        "\n",
        "# Function to check balance\n",
        "def check_balance():\n",
        "    print(f\"Current Balance: ₹{balance}\")\n",
        "\n",
        "# Function to deposit money\n",
        "def deposit_money():\n",
        "    global balance\n",
        "    try:\n",
        "        amount = float(input(\"Enter amount to deposit: \"))\n",
        "        if amount > 0:\n",
        "            balance += amount\n",
        "            transaction_history.append(f\"Deposited ₹{amount}\")\n",
        "            print(f\"Deposit successful! New Balance: ₹{balance}\")\n",
        "        else:\n",
        "            print(\"Amount must be positive.\")\n",
        "    except ValueError:\n",
        "        print(\"Invalid input! Please enter a numeric value.\")\n",
        "\n",
        "# Function to withdraw money\n",
        "def withdraw_money():\n",
        "    global balance\n",
        "    try:\n",
        "        amount = float(input(\"Enter amount to withdraw: \"))\n",
        "        if amount <= 0:\n",
        "            print(\"Amount must be positive.\")\n",
        "        elif amount > balance:\n",
        "            print(\"Insufficient funds!\")\n",
        "        else:\n",
        "            balance -= amount\n",
        "            transaction_history.append(f\"Withdrew ₹{amount}\")\n",
        "            print(f\"Withdrawal successful! New Balance: ₹{balance}\")\n",
        "    except ValueError:\n",
        "        print(\"Invalid input! Please enter a numeric value.\")\n",
        "\n",
        "# Function to view transaction history\n",
        "def view_history():\n",
        "    if transaction_history:\n",
        "        print(\"Transaction History:\")\n",
        "        for transaction in transaction_history:\n",
        "            print(transaction)\n",
        "    else:\n",
        "        print(\"No transactions yet.\")\n",
        "\n",
        "# Main Menu Loop\n",
        "def main():\n",
        "    balance = 0\n",
        "    transaction_history = []\n",
        "    while True:\n",
        "        print(\"\\nMain Menu:\")\n",
        "        print(\"1. Check Balance\")\n",
        "        print(\"2. Deposit Money\")\n",
        "        print(\"3. Withdraw Money\")\n",
        "        print(\"4. View Transaction History\")\n",
        "        print(\"5. Exit\")\n",
        "        choice = input(\"Enter your choice (1-5): \")\n",
        "        if choice == '1':\n",
        "            check_balance()\n",
        "        elif choice == '2':\n",
        "            deposit_money()\n",
        "        elif choice == '3':\n",
        "            withdraw_money()\n",
        "        elif choice == '4':\n",
        "            view_history()\n",
        "        elif choice == '5':\n",
        "            print(\"Exiting. Thank you for using the banking system.\")\n",
        "            break\n",
        "        else:\n",
        "            print(\"Invalid choice! Please select an option from 1 to 5.\")\n",
        "\n",
        "if __name__ == \"__main__\":\n",
        "    main()"
      ]
    }
  ],
  "metadata": {
    "kernelspec": {
      "display_name": "Python 3.13 (XPython)",
      "language": "python",
      "name": "xpython"
    },
    "language_info": {
      "file_extension": ".py",
      "mimetype": "text/x-python",
      "name": "python",
      "version": "3.13.1"
    }
  },
  "nbformat": 4,
  "nbformat_minor": 5
}
