{
 "cells": [
  {
   "cell_type": "code",
   "execution_count": null,
   "id": "9caa36b7-f764-4337-a72c-951d618905df",
   "metadata": {},
   "outputs": [],
   "source": [
    "# Dictionary\n",
    "'''\n",
    "Dictionaries are used to store data values in key:value pairs.\n",
    "\n",
    "A dictionary is a collection which is ordered*, changeable and do not allow duplicates.\n",
    "\n",
    "Dictionaries are written with curly brackets, and have keys and values\n",
    "\n",
    "'''"
   ]
  },
  {
   "cell_type": "code",
   "execution_count": 37,
   "id": "fd241290-8611-420c-b889-1ad227bb1d99",
   "metadata": {},
   "outputs": [
    {
     "name": "stdout",
     "output_type": "stream",
     "text": [
      "{'name': 'Ayush', 'age': 20, ' branch': 'Computer Science', 'is_enrolled': True}\n"
     ]
    }
   ],
   "source": [
    "# Dictionary creation\n",
    "student = {\n",
    "    \"name\": \"Ayush\",\n",
    "    \"age\": 20,\n",
    "    \" branch\": \"Computer Science\",\n",
    "    \"is_enrolled\": True\n",
    "}\n",
    "print(student)"
   ]
  },
  {
   "cell_type": "code",
   "execution_count": 10,
   "id": "a6d9c27d-50ba-4193-a040-4d3e9de7fd43",
   "metadata": {},
   "outputs": [
    {
     "name": "stdout",
     "output_type": "stream",
     "text": [
      "Ayush\n",
      "20\n",
      "None\n"
     ]
    }
   ],
   "source": [
    "student = {\n",
    "    \"name\": \"Ayush\",\n",
    "    \"age\": 20,\n",
    "    \" branch\": \"Computer Science\"\n",
    "}\n",
    "print(student[\"name\"])\n",
    "print(student.get(\"age\")) # get()  or without get we use []\n",
    "print(student.get(\"address\"))"
   ]
  },
  {
   "cell_type": "code",
   "execution_count": 104,
   "id": "deef0199-f297-4f36-ad8a-11002613d0bb",
   "metadata": {},
   "outputs": [
    {
     "name": "stdout",
     "output_type": "stream",
     "text": [
      "{}\n"
     ]
    }
   ],
   "source": [
    "# Adding, Modifiying and removing items\n",
    "\n",
    "student  = {\n",
    "    \"name\" : \"Ayush\",\n",
    "    \"age\" : 20\n",
    "}\n",
    "student[\"major\"] = \"Physics\"   #Adding\n",
    "student[\"enroll\"] = 67\n",
    "student[\"address\"] = \"Bhopal\"\n",
    "\n",
    "student[\"age\"] = 21   #Update\n",
    "student.update({\"name\": \"Piyush\"})\n",
    "\n",
    "#Remove\n",
    "'''\n",
    "for removing we use \n",
    " del dict[key] : Removes the item with the specified key name\n",
    " pop(key) :  Removes the item with the specified key name\n",
    " popitem() : Remove and return the last inserted key (in versions before 3.7, a random item is removed instead) \n",
    " clear() : Remove all items \n",
    "'''\n",
    "\n",
    "del student[\"age\"] \n",
    "student.pop(\"major\")\n",
    "student.popitem()\n",
    "student.clear()\n",
    "print(student)"
   ]
  },
  {
   "cell_type": "code",
   "execution_count": 33,
   "id": "f9b0112b-5565-4b28-8355-13283ac7190e",
   "metadata": {},
   "outputs": [
    {
     "name": "stdout",
     "output_type": "stream",
     "text": [
      "dict_keys(['name', 'age', ' branch'])\n",
      "dict_values(['Ayush', 20, 'Computer Science'])\n",
      "dict_items([('name', 'Ayush'), ('age', 20), (' branch', 'Computer Science')])\n"
     ]
    }
   ],
   "source": [
    "# Dictionary methods\n",
    "\n",
    "student = {\n",
    "    \"name\": \"Ayush\",\n",
    "    \"age\": 20,\n",
    "    \" branch\": \"Computer Science\"\n",
    "}\n",
    "print(student.keys())\n",
    "print(student.values())\n",
    "print(student.items())"
   ]
  },
  {
   "cell_type": "code",
   "execution_count": null,
   "id": "40435852-baba-484c-ab94-984e20e8b57d",
   "metadata": {},
   "outputs": [],
   "source": [
    "# Set\n",
    "'''\n",
    "Sets are used to store multiple items in a single variable.\n",
    "\n",
    "Set is one of 4 built-in data types in Python used to store collections of data, the other 3 are List,\n",
    "Tuple, and Dictionary, all with different qualities and usage.\n",
    "\n",
    "A set is a collection which is unordered, unchangeable*, and unindexed.\n",
    "\n",
    "'''"
   ]
  },
  {
   "cell_type": "code",
   "execution_count": 38,
   "id": "d06206c4-20e5-4c1b-932b-93b722d4c102",
   "metadata": {},
   "outputs": [
    {
     "name": "stdout",
     "output_type": "stream",
     "text": [
      "{1, 2, 3, 4, 5}\n",
      "<class 'set'>\n"
     ]
    }
   ],
   "source": [
    "# Set creation\n",
    "my_set = {1,2,3,4,5}\n",
    "print(my_set)\n",
    "print(type(my_set))"
   ]
  },
  {
   "cell_type": "code",
   "execution_count": 42,
   "id": "0c661372-43de-4941-8f97-90aa07da07c9",
   "metadata": {},
   "outputs": [
    {
     "name": "stdout",
     "output_type": "stream",
     "text": [
      "{2, 4, 6, 7, 8}\n"
     ]
    }
   ],
   "source": [
    "# Duplicate remove\n",
    "set1 = set({2,6,7,8,6,4})  #We can use set keyword also\n",
    "print(set1)"
   ]
  },
  {
   "cell_type": "code",
   "execution_count": 49,
   "id": "37b87234-0b01-4383-a978-40c5f02f1a8b",
   "metadata": {},
   "outputs": [
    {
     "name": "stdout",
     "output_type": "stream",
     "text": [
      "{3, 4, 5, 6, 7}\n",
      "{3, 4, 5, 7}\n",
      "{3, 4, 7}\n"
     ]
    }
   ],
   "source": [
    "# Add item\n",
    "my_set = {4,5,6,7}\n",
    "my_set.add(3)\n",
    "my_set.add(4)  # Adding existing item has no effect\n",
    "print(my_set)\n",
    "\n",
    "# Remove item\n",
    "my_set.remove(6)\n",
    "print(my_set)\n",
    "\n",
    "# Discard : Remove specified item\n",
    "\n",
    "my_set.discard(5)\n",
    "my_set.discard(8)  # Do not give error due to unknown item\n",
    "print(my_set)"
   ]
  },
  {
   "cell_type": "code",
   "execution_count": 53,
   "id": "fb089c9d-0026-4381-af4a-34335fcf7b0b",
   "metadata": {},
   "outputs": [
    {
     "name": "stdout",
     "output_type": "stream",
     "text": [
      "64\n",
      "{35, 36, 42, 75, 12, 14, 48, 85, 55, 26}\n",
      "None\n",
      "set()\n",
      "{35, 85, 55, 75, 14}\n",
      "{35, 75, 14, 85, 55}\n"
     ]
    }
   ],
   "source": [
    "# Set Methods\n",
    "\n",
    "set1 = {75,85,64,35,14,55}\n",
    "set2 = {12,75,48,26,42,36}\n",
    "print(set1.pop())    # pop() : Remove and return any random item\n",
    "print(set1.union(set2))   #union() or | : Returns a new set containing all unique items \n",
    "print(set2.clear())   # clear() : Clear the set\n",
    "print(set1.intersection(set2))  #intersection() : give common item\n",
    "print(set1.difference(set2))    #Give difference   or use [print(set1-set2)]\n",
    "print(set1.symmetric_difference(set2))   # or use [set1 ^ set2]"
   ]
  },
  {
   "cell_type": "code",
   "execution_count": 66,
   "id": "550ab44a-dbaf-40de-b39c-be3182bbeb71",
   "metadata": {},
   "outputs": [
    {
     "name": "stdout",
     "output_type": "stream",
     "text": [
      "frozenset({1, 2, 3})\n",
      "Group A\n"
     ]
    }
   ],
   "source": [
    "# Frozen Set \n",
    "'''\n",
    "A frozen set is an immutable version of set.\n",
    "Once created, we cannot add or remove elements from it.\n",
    "'''\n",
    "\n",
    "my_list = [1,2,3,2]\n",
    "my_frozenset = frozenset(my_list)\n",
    "print(my_frozenset)\n",
    "\n",
    "valid_permutation = {frozenset({1,2}): \"Group A\", frozenset({3,4}): \"Group B\"}\n",
    "print(valid_permutation[frozenset({1,2})])"
   ]
  },
  {
   "cell_type": "code",
   "execution_count": null,
   "id": "c5c51fdb-f52a-44a7-9137-e6269df4b336",
   "metadata": {},
   "outputs": [],
   "source": [
    "# Exercise"
   ]
  },
  {
   "cell_type": "code",
   "execution_count": 68,
   "id": "ffa4ce28-25ea-49f4-a240-12d119fde9f2",
   "metadata": {},
   "outputs": [
    {
     "name": "stdout",
     "output_type": "stream",
     "text": [
      "{'name': 'Laptop', 'price': 1150, 'in_stock': True, 'new brand': 'Dell'}\n"
     ]
    }
   ],
   "source": [
    "product = {\n",
    "    \"name\" : \"Laptop\",\n",
    "    \"price\" : 1200,\n",
    "    \"in_stock\" : True\n",
    "}\n",
    "product[\"price\"] = 1150 \n",
    "product[\"new brand\"] = \"Dell\"\n",
    "print(product)"
   ]
  },
  {
   "cell_type": "code",
   "execution_count": 72,
   "id": "1bbe874e-1980-4997-8c50-1bda4dfb0453",
   "metadata": {},
   "outputs": [
    {
     "name": "stdout",
     "output_type": "stream",
     "text": [
      "{'name': 'Rajesh', 'major': 'Electrical Engineering', 'course': ['Circuits', 'Signals', 'Machines']}\n"
     ]
    }
   ],
   "source": [
    "student_info = {\n",
    "    \"name\" : \"Rajesh\",\n",
    "    \"age\"  : 22,\n",
    "    \"major\"  : \"Electrical Engineering\"\n",
    "}\n",
    "student_info[\"course\"] = [\"Circuits\", \"Signals\", \"Machines\"]\n",
    "del student_info[\"age\"]\n",
    "print(student_info)"
   ]
  },
  {
   "cell_type": "code",
   "execution_count": 74,
   "id": "a9a73302-1a4e-4a78-8d56-1171b9bcbc7b",
   "metadata": {},
   "outputs": [
    {
     "name": "stdout",
     "output_type": "stream",
     "text": [
      "Set {1, 2, 3, 4, 5}\n",
      "List [1, 2, 3, 4, 5]\n"
     ]
    }
   ],
   "source": [
    "numbers = [1,2,2,3,4,4,5,1]\n",
    "number_set = set(numbers)\n",
    "number_list = list(number_set)\n",
    "print(\"Set\", number_set)\n",
    "print(\"List\", number_list)"
   ]
  },
  {
   "cell_type": "code",
   "execution_count": 75,
   "id": "432a1086-e467-4d7a-88e0-c55708c50718",
   "metadata": {},
   "outputs": [
    {
     "name": "stdout",
     "output_type": "stream",
     "text": [
      "Python-is-an-amazing-programming-language\n"
     ]
    }
   ],
   "source": [
    "sentence = \"Python is an amazing programming language\"\n",
    "words = sentence.split()\n",
    "new_sentence = \"-\".join(words)\n",
    "print(new_sentence)"
   ]
  },
  {
   "cell_type": "code",
   "execution_count": 77,
   "id": "8199661b-8e98-44db-9292-03336392d41c",
   "metadata": {},
   "outputs": [
    {
     "name": "stdout",
     "output_type": "stream",
     "text": [
      "{'Charlie', 'David'}\n",
      "{'Bob', 'David', 'Alice', 'Charlie', 'Frank', 'Eve'}\n",
      "{'Bob', 'Alice'}\n"
     ]
    }
   ],
   "source": [
    "course_a = { \"Alice\", \"Bob\", \"Charlie\", \"David\"}\n",
    "course_b = { \"Charlie\", \"David\", \"Eve\", \"Frank\"}\n",
    "print(course_a.intersection(course_b))\n",
    "print(course_a.union(course_b))\n",
    "print(course_a.difference(course_b))"
   ]
  },
  {
   "cell_type": "code",
   "execution_count": 80,
   "id": "530715fc-4f54-419e-bc64-82eed030f7d0",
   "metadata": {},
   "outputs": [
    {
     "name": "stdout",
     "output_type": "stream",
     "text": [
      "498\n"
     ]
    }
   ],
   "source": [
    "student = { \"Ayush\": 485 ,  \"Rahul\" : 476 , \"Eve\" : 352 , \"Atul\" : 498 , \"Ranger\" : 425}\n",
    "highest_score = -1\n",
    "for name, marks in student.items():\n",
    "    if marks > highest_score:\n",
    "        highest_score = marks\n",
    "print(highest_score)"
   ]
  },
  {
   "cell_type": "code",
   "execution_count": 88,
   "id": "591f945d-6fe5-4280-808a-a07cedc050c5",
   "metadata": {},
   "outputs": [
    {
     "name": "stdout",
     "output_type": "stream",
     "text": [
      "{'a': 10, 'b': 25, 'c': 15}\n"
     ]
    }
   ],
   "source": [
    "from collections import Counter\n",
    "d1 = {\"a\" : 10, \"b\" : 20}\n",
    "d2 = {\"b\" : 5, \"c\" : 15}\n",
    "d3 = dict(Counter(d1) + Counter(d2))\n",
    "print(d3)"
   ]
  },
  {
   "cell_type": "code",
   "execution_count": null,
   "id": "ab5a9669-6deb-4652-b6b1-379aee41f08a",
   "metadata": {},
   "outputs": [],
   "source": [
    "# String"
   ]
  },
  {
   "cell_type": "code",
   "execution_count": 90,
   "id": "704d3674-3d8f-4c82-9949-bfaa5069053a",
   "metadata": {},
   "outputs": [
    {
     "name": "stdout",
     "output_type": "stream",
     "text": [
      "Hello World\n",
      "*****\n",
      "6\n",
      "P\n",
      "ogra\n",
      "gnimmargorP\n"
     ]
    }
   ],
   "source": [
    "# Concatenation : using + operator\n",
    "\n",
    "greeting = \"Hello\" + \" \" + \"World\"\n",
    "print(greeting)\n",
    "\n",
    "# Repetition : using * operator\n",
    "\n",
    "Star = \"*\" * 5\n",
    "print(Star)\n",
    "\n",
    "# Length : len() function\n",
    "\n",
    "message = \"Python\"\n",
    "print(len(message))\n",
    "\n",
    "# Indexing and Slicing\n",
    "\n",
    "text = \"Programming\"\n",
    "print(text[0])\n",
    "print(text[2:6])\n",
    "print(text[::-1])"
   ]
  },
  {
   "cell_type": "code",
   "execution_count": 95,
   "id": "8a6155a1-5401-4e50-845c-b2fa923bf4cf",
   "metadata": {},
   "outputs": [
    {
     "name": "stdout",
     "output_type": "stream",
     "text": [
      "hello world\n",
      "HELLO WORLD\n",
      "Hello world\n",
      "Hello World\n",
      "Hello World\n",
      "I like oranges, do you like oranges?\n",
      "['apple', ' banana', ' cherry']\n",
      "Hello World Python\n",
      "Hello,World,Python\n",
      "7\n",
      "2\n",
      "True\n",
      "True\n"
     ]
    }
   ],
   "source": [
    "# String Methods\n",
    "'''\n",
    "lower() : Converts a string into lower case\n",
    "upper() : Converts a string into upper case\n",
    "capitalize() : Converts the first character to upper case\n",
    "title() : Converts the first character of each word to upper case\n",
    "strip() : Removes leading and trailing whitespace\n",
    "lstrip() : Removes leadind whitespace\n",
    "rstrip() : Removes trailing whitespace\n",
    "replace(old, new) : Repalce all occurence of a substring\n",
    "split([delimiter]) : Splits a string into a list of substrings using a delimiter(defaut is whitespace)\n",
    "join() : Joins the elements of an iterable to the end of the string\n",
    "find(substring) : Searches the string for a specified value and returns the position of where it was found\n",
    "count(substring) : Returns the number of times a specified value occurs in a string\n",
    "startswith(prefix) : Returns true if the string starts with the specified value\n",
    "endswith(suffix) : Returns true if the string ends with the specified value\n",
    "isdigit()\n",
    "isalpha()\n",
    "isalnum()\n",
    "isspace()\n",
    "'''\n",
    "message = \"Hello World\"\n",
    "print(message.lower())\n",
    "print(message.upper())\n",
    "print(message.capitalize())\n",
    "print(message.title())\n",
    "\n",
    "padded_s = \"  Hello World\"\n",
    "print(padded_s.strip())\n",
    "\n",
    "sentence = \"I like apples, do you like apples?\"\n",
    "new_sentence = sentence.replace(\"apples\", \"oranges\")\n",
    "print(new_sentence)\n",
    "\n",
    "data = \"apple, banana, cherry\"\n",
    "fruit_list = data.split(\",\")\n",
    "print(fruit_list)\n",
    "\n",
    "words = [\"Hello\", \"World\", \"Python\"]\n",
    "joined_string = \" \".join(words)\n",
    "print(joined_string)\n",
    "csv_data = \",\".join([\"Hello\", \"World\", \"Python\"])\n",
    "print(csv_data)\n",
    "\n",
    "text = \"Python programming is fun\"\n",
    "print(text.find(\"program\"))\n",
    "print(text.count(\"g\"))\n",
    "print(text.startswith(\"Py\"))\n",
    "print(text.endswith(\"fun\"))"
   ]
  },
  {
   "cell_type": "code",
   "execution_count": 103,
   "id": "815e4d53-9084-4b2a-b21b-a16250c250e0",
   "metadata": {},
   "outputs": [
    {
     "name": "stdout",
     "output_type": "stream",
     "text": [
      "Hello, Bob! You are 30 years old.\n",
      "Price : 152.32\n",
      "Hello, Alice! you are 25 years old .\n",
      "Hello, Charlie! You are 35 years old.\n",
      "Hello, David! You are 40 years old.\n"
     ]
    }
   ],
   "source": [
    "# String Formating  (F-String)\n",
    "'''\n",
    "F-String was introduced in Python 3.6, and is now the preferred way of formatting strings.\n",
    "To specify a string as an f-string, simply put an f in front of the string literal, and add curly \n",
    " brackets {} as placeholders for variables and other operations.\n",
    "We can combine strings and numbers by using f-strings or the format() method!\n",
    "'''\n",
    "\n",
    "name = \"Bob\"\n",
    "age = 30\n",
    "message = f\"Hello, {name}! You are {age} years old.\"\n",
    "print(message)\n",
    "\n",
    "price = 152.325\n",
    "print(f\"Price : {price:.2f}\")   # (.2f) : format to 2 decimal place\n",
    "\n",
    "# .format() method:\n",
    "\n",
    "name = \"Alice\"\n",
    "age = 25\n",
    "message = \"Hello, {}! you are {} years old .\".format(name, age)\n",
    "print(message)\n",
    "\n",
    "message_named = \"Hello, {n}! You are {a} years old.\".format(n = \"Charlie\", a = 35)\n",
    "print(message_named)\n",
    "\n",
    "# old style % formatting\n",
    "\n",
    "name = \"David\"\n",
    "age = 40\n",
    "message = \"Hello, %s! You are %d years old.\" %(name,age)   # %s for string and %d for integer\n",
    "print(message)"
   ]
  },
  {
   "cell_type": "code",
   "execution_count": null,
   "id": "5b4fe5fc-5310-4705-8eda-6d061df9897c",
   "metadata": {},
   "outputs": [],
   "source": [
    "# Exercise"
   ]
  },
  {
   "cell_type": "code",
   "execution_count": 108,
   "id": "1a39578f-a7c0-46d0-890d-fe7c2fd7a9fc",
   "metadata": {},
   "outputs": [
    {
     "name": "stdout",
     "output_type": "stream",
     "text": [
      "Student Ram scored 50 marks.\n"
     ]
    }
   ],
   "source": [
    "a = \"Ram\"\n",
    "b = 50\n",
    "c = f\"Student {a} scored {b} marks.\"\n",
    "print(c)"
   ]
  },
  {
   "cell_type": "code",
   "execution_count": 113,
   "id": "d8a1af32-33e8-4fb0-a741-426f3720140c",
   "metadata": {},
   "outputs": [
    {
     "name": "stdout",
     "output_type": "stream",
     "text": [
      "Circle radius=7, area=154.203, circumference=44.058\n"
     ]
    }
   ],
   "source": [
    "r=7 \n",
    "a=3.147*r*r\n",
    "c=2*3.147*r\n",
    "d = f\"Circle radius={r}, area={a}, circumference={c}\"\n",
    "print(d)"
   ]
  },
  {
   "cell_type": "code",
   "execution_count": 114,
   "id": "b531b649-2c84-4c7f-b508-617f0b12d541",
   "metadata": {},
   "outputs": [
    {
     "name": "stdout",
     "output_type": "stream",
     "text": [
      "Salary=$2500, Bonus=$5000, Total=$7500\n"
     ]
    }
   ],
   "source": [
    "s=2500\n",
    "b=5000\n",
    "t=s+b\n",
    "e = f\"Salary=${s}, Bonus=${b}, Total=${t}\"\n",
    "print(e)"
   ]
  },
  {
   "cell_type": "code",
   "execution_count": 115,
   "id": "bd37d6cd-7f3e-450d-ad14-95a694530867",
   "metadata": {},
   "outputs": [
    {
     "name": "stdout",
     "output_type": "stream",
     "text": [
      "Item:Laptop, Orignal:$50000, Discount=$5000, Final=$45000\n"
     ]
    }
   ],
   "source": [
    "i= \"Laptop\"\n",
    "o= 50000\n",
    "d= 5000\n",
    "t= o-d\n",
    "sen = f\"Item:{i}, Orignal:${o}, Discount=${d}, Final=${t}\"\n",
    "print(sen)"
   ]
  },
  {
   "cell_type": "code",
   "execution_count": 118,
   "id": "ce03f892-2d3a-4426-b630-951c90253796",
   "metadata": {},
   "outputs": [
    {
     "name": "stdout",
     "output_type": "stream",
     "text": [
      "Python-is-an-amazing-programming-language\n"
     ]
    }
   ],
   "source": [
    "a =\"Python is an amazing programming language\"\n",
    "words = a.split()\n",
    "message = \"-\".join(words)\n",
    "print(message)"
   ]
  },
  {
   "cell_type": "code",
   "execution_count": null,
   "id": "172ce1d6-5264-41ba-b88b-a463f4b12630",
   "metadata": {},
   "outputs": [],
   "source": []
  }
 ],
 "metadata": {
  "kernelspec": {
   "display_name": "Python [conda env:base] *",
   "language": "python",
   "name": "conda-base-py"
  },
  "language_info": {
   "codemirror_mode": {
    "name": "ipython",
    "version": 3
   },
   "file_extension": ".py",
   "mimetype": "text/x-python",
   "name": "python",
   "nbconvert_exporter": "python",
   "pygments_lexer": "ipython3",
   "version": "3.13.5"
  }
 },
 "nbformat": 4,
 "nbformat_minor": 5
}
