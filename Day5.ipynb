{
 "cells": [
  {
   "cell_type": "code",
   "execution_count": 1,
   "id": "667abbbe-4167-4a5e-beab-c5393e25a80a",
   "metadata": {},
   "outputs": [
    {
     "name": "stdout",
     "output_type": "stream",
     "text": [
      "Balance after += : 150\n",
      "Items after *= :20\n"
     ]
    }
   ],
   "source": [
    "# Assignment Operators\n",
    "\n",
    "balance = 100\n",
    "balance += 50\n",
    "print(f\"Balance after += : {balance}\")\n",
    "\n",
    "items = 10\n",
    "items *= 2\n",
    "print(f\"Items after *= :{items}\")"
   ]
  },
  {
   "cell_type": "code",
   "execution_count": 3,
   "id": "cb980ecc-2df4-495b-873c-864663e0b769",
   "metadata": {},
   "outputs": [
    {
     "name": "stdout",
     "output_type": "stream",
     "text": [
      "a is b: True\n",
      "a is c: False\n",
      "list1 == list2 :True\n",
      "list1 is list2 :False\n",
      "list1 is list3 :True\n",
      "s1 is s2 :True\n",
      "s1 is s3 :False\n"
     ]
    }
   ],
   "source": [
    "# Identity Operator \n",
    "'''\n",
    "Identity operator compare the memory locations(identities) of two objects.\n",
    "They check if two variables refer to the exact same object in memory, not just if they have the same value.\n",
    "\n",
    "1.> is : Returns True if both operands refer to the same object.\n",
    "2.> is not : Returns True if both operands do not refer to the same object.\n",
    "'''\n",
    "\n",
    "# Integers\n",
    "a = 10\n",
    "b = 10 \n",
    "c = 20\n",
    "print(f\"a is b: {a is b}\")\n",
    "print(f\"a is c: {a is c}\")\n",
    "\n",
    "# List\n",
    "list1 = [1,2,3]\n",
    "list2 = [1,2,3]\n",
    "list3 = list1\n",
    "print(f\"list1 == list2 :{list1 == list2}\")\n",
    "print(f\"list1 is list2 :{list1 is list2}\")\n",
    "print(f\"list1 is list3 :{list1 is list3}\")\n",
    "\n",
    "# String\n",
    "s1 = \"hello\"\n",
    "s2 = \"hello\"\n",
    "s3 = \"world\"\n",
    "print(f\"s1 is s2 :{s1 is s2}\")\n",
    "print(f\"s1 is s3 :{s1 is s3}\")"
   ]
  },
  {
   "cell_type": "code",
   "execution_count": 4,
   "id": "8af30a80-bbe2-49d9-a5c9-d85e27391195",
   "metadata": {},
   "outputs": [
    {
     "name": "stdout",
     "output_type": "stream",
     "text": [
      "'Python' in message : True\n",
      "'Java' not in message : True\n",
      "'banana' in fruits : True\n",
      "'grapes' not in fruits : True\n",
      "Alice in student_scores : True\n"
     ]
    }
   ],
   "source": [
    "# Membership Operator\n",
    "'''\n",
    "Membership operator test for the presence of a value or a sequence in another sequence(like list, string, tuple, set) or mapping(like dictionary).\n",
    "\n",
    "1.> in\n",
    "2.> not in\n",
    "'''\n",
    "\n",
    "# string\n",
    "message = \"Hello, Python\"\n",
    "print(f\"'Python' in message : {'Python' in message}\")\n",
    "print(f\"'Java' not in message : {'Java' not in message}\")\n",
    "\n",
    "# list\n",
    "fruits = [\"apple\", \"banana\", \"cherry\"]\n",
    "print(f\"'banana' in fruits : {'banana' in fruits}\")\n",
    "print(f\"'grapes' not in fruits : {'grapes' not in fruits}\")\n",
    "\n",
    "# dictionary\n",
    "student_scores = {\"Alice\":90, \"Bob\":85}\n",
    "print(f\"Alice in student_scores : {'Alice' in student_scores}\")"
   ]
  },
  {
   "cell_type": "code",
   "execution_count": 8,
   "id": "2e177211-9111-461d-b9ec-c0a1cca76705",
   "metadata": {},
   "outputs": [],
   "source": [
    "# Flow Control (conditional and Iterative Statements - for loop)\n",
    "\n",
    "# Conditional Statement\n",
    "''' \n",
    "if statement\n",
    "\n",
    "-> The if statement executes a block of code only if a specified condition is true.\n",
    "\n",
    "  Syntax\n",
    "     if condition:\n",
    "        #code to execute if condition is true\n",
    "        statement_1\n",
    "        statement_2\n",
    "        #...\n",
    "'''\n",
    "\n",
    "age = 17\n",
    "if age >= 18:\n",
    "    print(\"You are an adult.\")"
   ]
  },
  {
   "cell_type": "code",
   "execution_count": 9,
   "id": "62cf9abb-f2d6-4ccb-9ac3-157d25e050df",
   "metadata": {},
   "outputs": [
    {
     "name": "stdout",
     "output_type": "stream",
     "text": [
      "it is not too hot\n"
     ]
    }
   ],
   "source": [
    "# if-else statement \n",
    "\n",
    "temperature = 20\n",
    "if temperature > 25:\n",
    "    print(\"it's hot outside\")\n",
    "else:\n",
    "    print(\"it is not too hot\")"
   ]
  },
  {
   "cell_type": "code",
   "execution_count": 15,
   "id": "ee71ef8f-8b73-494b-87ad-5656051d63ae",
   "metadata": {},
   "outputs": [
    {
     "name": "stdout",
     "output_type": "stream",
     "text": [
      "Apple is a fruit.\n"
     ]
    }
   ],
   "source": [
    "fruits = [\"apple\", \"banana\", \"grapes\"]\n",
    "if \"apple\" in fruits:\n",
    "    print(\"Apple is a fruit.\")\n",
    "else :\n",
    "    print(\"Apple is not a fruit.\")"
   ]
  },
  {
   "cell_type": "code",
   "execution_count": 20,
   "id": "ef64830a-2588-461e-905a-d3ac513c3302",
   "metadata": {},
   "outputs": [
    {
     "name": "stdout",
     "output_type": "stream",
     "text": [
      "number is odd\n"
     ]
    }
   ],
   "source": [
    "# even odd question\n",
    "number = 125\n",
    "if number/2 == 0:\n",
    "    print(\"number is even\")\n",
    "else :\n",
    "    print(\"number is odd\")"
   ]
  },
  {
   "cell_type": "code",
   "execution_count": 22,
   "id": "f0828620-dd15-44d2-b344-eb6976a6e803",
   "metadata": {},
   "outputs": [
    {
     "name": "stdin",
     "output_type": "stream",
     "text": [
      "Enter any three numbers :  14 42 15\n"
     ]
    },
    {
     "name": "stdout",
     "output_type": "stream",
     "text": [
      "Greatest no. is :  42\n"
     ]
    }
   ],
   "source": [
    "# find greatest no.\n",
    "a,b,c = map(int, input(\"Enter any three numbers : \").split())\n",
    "if max(a,b,c):\n",
    "    print(\"Greatest no. is : \", max(a,b,c))"
   ]
  },
  {
   "cell_type": "code",
   "execution_count": 28,
   "id": "7fed9e91-0b91-4ffb-a080-3ebf70cedbd9",
   "metadata": {},
   "outputs": [
    {
     "name": "stdin",
     "output_type": "stream",
     "text": [
      "Enter first number:  15\n",
      "Enter second number:  12\n",
      "Enter third number:  42\n"
     ]
    },
    {
     "name": "stdout",
     "output_type": "stream",
     "text": [
      "Greatest: 42\n",
      "Second Greatest: 15\n"
     ]
    }
   ],
   "source": [
    "# Input three numbers\n",
    "a = int(input(\"Enter first number: \"))\n",
    "b = int(input(\"Enter second number: \"))\n",
    "c = int(input(\"Enter third number: \"))\n",
    "nums = [a, b, c]\n",
    "nums.sort(reverse=True)\n",
    "print(\"Greatest:\", nums[0])\n",
    "print(\"Second Greatest:\", nums[1])"
   ]
  },
  {
   "cell_type": "code",
   "execution_count": 30,
   "id": "50e46881-82a7-4e44-8b2a-5703892e34d8",
   "metadata": {},
   "outputs": [
    {
     "name": "stdin",
     "output_type": "stream",
     "text": [
      "Enter first number:  14\n",
      "Enter second number:  56\n",
      "Enter third number:  52\n"
     ]
    },
    {
     "name": "stdout",
     "output_type": "stream",
     "text": [
      "Greatest: 56\n",
      "Second Greatest: 52\n"
     ]
    }
   ],
   "source": [
    "a = int(input(\"Enter first number: \"))\n",
    "b = int(input(\"Enter second number: \"))\n",
    "c = int(input(\"Enter third number: \"))\n",
    "if a > b:\n",
    "    if a > c:\n",
    "        greatest = a\n",
    "        if b > c:\n",
    "            second_greatest = b\n",
    "        else:\n",
    "            second_greatest = c\n",
    "    else:\n",
    "        greatest = c\n",
    "        second_greatest = a\n",
    "else:\n",
    "    if b > c:\n",
    "        greatest = b\n",
    "        if a > c:\n",
    "            second_greatest = a\n",
    "        else:\n",
    "            second_greatest = c\n",
    "    else:\n",
    "        greatest = c\n",
    "        second_greatest = b\n",
    "\n",
    "print(\"Greatest:\", greatest)\n",
    "print(\"Second Greatest:\", second_greatest)"
   ]
  },
  {
   "cell_type": "code",
   "execution_count": 38,
   "id": "b9b17e4e-17d6-4792-94f5-f88647b17e3f",
   "metadata": {},
   "outputs": [
    {
     "name": "stdin",
     "output_type": "stream",
     "text": [
      "Enter the string: Hello World\n"
     ]
    },
    {
     "name": "stdout",
     "output_type": "stream",
     "text": [
      "The number of vowels in the given string is: 3\n"
     ]
    }
   ],
   "source": [
    "# Find no. of vowel\n",
    "a=input(\"Enter the string:\")\n",
    "v=\"a\",\"e\",\"i\",\"o\",\"u\",\"A\",\"E\",\"I\",\"O\",\"U\"\n",
    "count=0\n",
    "for i in a:\n",
    "  if i in v:\n",
    "    count+=1\n",
    "print(\"The number of vowels in the given string is:\",count)"
   ]
  },
  {
   "cell_type": "code",
   "execution_count": 37,
   "id": "8cb85466-b1fe-4108-bc1a-979e40153f31",
   "metadata": {},
   "outputs": [
    {
     "name": "stdin",
     "output_type": "stream",
     "text": [
      "Enter a year:  2014\n"
     ]
    },
    {
     "name": "stdout",
     "output_type": "stream",
     "text": [
      "Not a Leap Year\n"
     ]
    }
   ],
   "source": [
    "year = int(input(\"Enter a year: \"))\n",
    "# Check leap year using only if-else\n",
    "if year % 4 == 0:\n",
    "    if year % 100 == 0:\n",
    "        if year % 400 == 0:\n",
    "            print(\"Leap Year\")\n",
    "        else:\n",
    "            print(\"Not a Leap Year\")\n",
    "    else:\n",
    "        print(\"Leap Year\")\n",
    "else:\n",
    "    print(\"Not a Leap Year\")"
   ]
  },
  {
   "cell_type": "code",
   "execution_count": 40,
   "id": "6c432e32-5279-4210-a1fd-7d5d6cc567f0",
   "metadata": {},
   "outputs": [
    {
     "name": "stdin",
     "output_type": "stream",
     "text": [
      "Enter a letter:  l\n"
     ]
    },
    {
     "name": "stdout",
     "output_type": "stream",
     "text": [
      "l is a consonant\n"
     ]
    }
   ],
   "source": [
    "# check vowel or consonant\n",
    "letter= input(\"Enter a letter: \")\n",
    "if letter in (\"aeiouAEIOU\"):\n",
    "    print (letter, \"is a vowel\")\n",
    "else :\n",
    "    print(letter, \"is a consonant\")"
   ]
  },
  {
   "cell_type": "code",
   "execution_count": 43,
   "id": "824d56ab-ce49-4a5d-8273-ea38a31170d2",
   "metadata": {},
   "outputs": [
    {
     "name": "stdin",
     "output_type": "stream",
     "text": [
      "Enter price of item 1:  457\n",
      "Enter price of item 2:  857\n",
      "Enter price of item 3:  425\n"
     ]
    },
    {
     "name": "stdout",
     "output_type": "stream",
     "text": [
      "Final total after discount (if any): ₹1565.10\n"
     ]
    }
   ],
   "source": [
    "'''\n",
    "Scenario Based Practice Question: E-Commerce Cart Price Tracker\n",
    "\n",
    "Focus: Assignment, Compound Assignment, Conditional Statements\n",
    "\n",
    "Scenario:\n",
    "You are building a basic cart total calculator for an e-commerce site.\n",
    "A user can add item prices one by one.\n",
    "If the total exceeds ₹1000, a 10% discount is applied.\n",
    "\n",
    "Task:\n",
    "1. Initialize total = 0\n",
    "2. Use += to add item prices\n",
    "3. If total > 1000, apply 10% discount using total *= 0.9\n",
    "4. Print final total\n",
    "'''\n",
    "\n",
    "total = 0\n",
    "\n",
    "item1 = float(input(\"Enter price of item 1: \"))\n",
    "item2 = float(input(\"Enter price of item 2: \"))\n",
    "item3 = float(input(\"Enter price of item 3: \"))\n",
    "\n",
    "total += item1\n",
    "total += item2\n",
    "total += item3\n",
    "\n",
    "if total > 1000:\n",
    "    total *= 0.9\n",
    "\n",
    "print(f\"Final total after discount (if any): ₹{total:.2f}\")"
   ]
  },
  {
   "cell_type": "code",
   "execution_count": 60,
   "id": "e140e7a7-ff8c-480a-a4f2-625fc1fb6150",
   "metadata": {},
   "outputs": [
    {
     "name": "stdout",
     "output_type": "stream",
     "text": [
      "Grade : B\n"
     ]
    }
   ],
   "source": [
    "# if-elif-else statement\n",
    "'''\n",
    "The if-elif-else statement allows you to test the multiple cinditions sequentially.\n",
    "Python checks conditions from top to bottom.\n",
    "As soon as a condition evalute to true, its corresponding code block is executed and the rest of elif and else block is skiped.\n",
    "'''\n",
    "# Example\n",
    "\n",
    "score = 85\n",
    "if score >= 90:\n",
    "    print(\"Grade : A\")\n",
    "elif score >= 80:\n",
    "    print(\"Grade : B\")\n",
    "elif score >= 70:\n",
    "    print(\"Grade : C\")\n",
    "else:\n",
    "    print(\"Grade : Fail\")"
   ]
  },
  {
   "cell_type": "code",
   "execution_count": 48,
   "id": "ba3143d5-949d-41a5-a090-32b8577e7b62",
   "metadata": {},
   "outputs": [
    {
     "name": "stdin",
     "output_type": "stream",
     "text": [
      "Enter Marks:  35\n"
     ]
    },
    {
     "name": "stdout",
     "output_type": "stream",
     "text": [
      "Fail :  {35}\n"
     ]
    }
   ],
   "source": [
    "score = int(input(\"Enter Marks: \"))\n",
    "if score >= 90:\n",
    "    print(\"Grade A : \" , {score})\n",
    "elif score >= 80:\n",
    "    print(\"Grade B : \" , {score})\n",
    "elif score >= 70:\n",
    "    print(\"Grade C : \" , {score})\n",
    "elif score >= 60:\n",
    "    print(\"Grade D : \" , {score})\n",
    "else :\n",
    "    print(\"Fail : \" , {score})"
   ]
  },
  {
   "cell_type": "code",
   "execution_count": 49,
   "id": "b1941a0a-3393-45a4-bc48-cfbc6f2e6bf1",
   "metadata": {},
   "outputs": [
    {
     "name": "stdin",
     "output_type": "stream",
     "text": [
      "Enter age 42\n"
     ]
    },
    {
     "name": "stdout",
     "output_type": "stream",
     "text": [
      "Your age is 42, you are eligible to drive.\n",
      "You have license.\n"
     ]
    }
   ],
   "source": [
    "# Nested if statement\n",
    "'''\n",
    "We can place if statement inside other if, elif and else block.\n",
    "This is useful for testing mulitiple layers of conditions.\n",
    "'''\n",
    "\n",
    "# Example\n",
    "age = int(input(\"Enter age\"))\n",
    "has_license = True \n",
    "if age >= 18:\n",
    "    print(f\"Your age is {age}, you are eligible to drive.\")\n",
    "    if has_license:\n",
    "        print(\"You have license.\")\n",
    "    else:\n",
    "        print(\"You have no license\")\n",
    "else:\n",
    "    print(\"Your age is less for driving\")"
   ]
  },
  {
   "cell_type": "code",
   "execution_count": 54,
   "id": "800fb3ec-0aa3-462c-8b43-90f32486aeb7",
   "metadata": {},
   "outputs": [
    {
     "name": "stdin",
     "output_type": "stream",
     "text": [
      "Enter the password :  Ayush#8271\n"
     ]
    },
    {
     "name": "stdout",
     "output_type": "stream",
     "text": [
      "valid\n"
     ]
    }
   ],
   "source": [
    "# Password Validator\n",
    "password = input(\"Enter the password : \")\n",
    "if \"@\" or \"#\" or \"$\" in password:\n",
    "    print(\"valid\")\n",
    "else:\n",
    "    print(\"invalid\")"
   ]
  },
  {
   "cell_type": "code",
   "execution_count": 53,
   "id": "bd1b68e4-d30c-48bf-83cb-6571748e0165",
   "metadata": {},
   "outputs": [
    {
     "name": "stdout",
     "output_type": "stream",
     "text": [
      "item1 == item2: True\n",
      "item1 is item2: False\n"
     ]
    }
   ],
   "source": [
    "# Create two item records with same values but different memory locations\n",
    "item1 = [101, \"Mouse\", 500]\n",
    "item2 = [101, \"Mouse\", 500]\n",
    "print(\"item1 == item2:\", item1 == item2) \n",
    "print(\"item1 is item2:\", item1 is item2) "
   ]
  },
  {
   "cell_type": "code",
   "execution_count": 57,
   "id": "37a80a98-e0b6-4a66-988d-3034a5eaeebf",
   "metadata": {},
   "outputs": [
    {
     "name": "stdout",
     "output_type": "stream",
     "text": [
      "Valid Grade\n",
      "Excellent! Top grade achieved.\n"
     ]
    }
   ],
   "source": [
    "# Take input grade\n",
    "grade = \"A\"\n",
    "valid_grades = [\"A\", \"B\", \"C\", \"D\", \"F\"]\n",
    "if grade in valid_grades:\n",
    "    print(\"Valid Grade\")\n",
    "    if grade == \"A\":\n",
    "        print(\"Excellent! Top grade achieved.\")\n",
    "else:\n",
    "    print(\"Invalid Grade\")"
   ]
  },
  {
   "cell_type": "code",
   "execution_count": 72,
   "id": "d26a2e43-44dc-4761-9d6f-1ddba39d09d7",
   "metadata": {},
   "outputs": [
    {
     "name": "stdout",
     "output_type": "stream",
     "text": [
      "0\n",
      "1\n",
      "2\n",
      "3\n",
      "4\n",
      "   \n",
      "1\n",
      "2\n",
      "3\n",
      "4\n",
      "5\n",
      " \n",
      "Apple\n",
      "Banana\n",
      "Cherry\n",
      " \n",
      "P\n",
      "y\n",
      "t\n",
      "h\n",
      "o\n",
      "n\n",
      " \n",
      "10\n",
      "20\n",
      "30\n",
      " \n",
      "Alice\n",
      "Bob\n",
      "Charlie\n",
      " \n",
      "1\n",
      "5\n",
      "2\n",
      "8\n"
     ]
    }
   ],
   "source": [
    "# For loop\n",
    "'''\n",
    "The for loop is used to iterate over a sequence or other iterate objects. \n",
    "It executes a block of code once for each item in sequence.\n",
    "\n",
    "Syntax\n",
    "\n",
    "for variable in iterable:\n",
    "  # Code to execute for each item\n",
    "  statement_1\n",
    "  statement_2\n",
    "  #...\n",
    "'''\n",
    "# for loop with range()\n",
    "\n",
    "# Example1\n",
    "for i in range(5):\n",
    "    print(i)\n",
    "    \n",
    "print(\"   \")\n",
    "\n",
    "# Example2\n",
    "for num in range(1,6):\n",
    "    print(num)\n",
    "\n",
    "print(\" \")\n",
    "\n",
    "# for loop in list\n",
    "fruits = [\"Apple\", \"Banana\", \"Cherry\"]\n",
    "for fruit in fruits:\n",
    "    print(fruit)\n",
    "\n",
    "print(\" \")\n",
    "\n",
    "# for loop in string\n",
    "word = \"Python\"\n",
    "for char in word:\n",
    "    print(char)\n",
    "\n",
    "print(\" \")\n",
    "\n",
    "# for loop in tuple\n",
    "coordinates = {10,20,30}\n",
    "for coord in coordinates:\n",
    "    print(coord)\n",
    "\n",
    "print(\" \")\n",
    "\n",
    "# for loop in dictionary\n",
    "grades = {\"Alice\":\"A\", \"Bob\":\"B\", \"Charlie\":\"C\"}\n",
    "for name in grades:\n",
    "    print(name)\n",
    "    \n",
    "print(\" \")\n",
    "    \n",
    "# for loop in set\n",
    "numbers = [1,5,2,8]\n",
    "for num in numbers:\n",
    "    print(num)"
   ]
  },
  {
   "cell_type": "code",
   "execution_count": 69,
   "id": "af7d8833-4f43-4ee7-9e04-5a4e95ebab82",
   "metadata": {},
   "outputs": [
    {
     "name": "stdout",
     "output_type": "stream",
     "text": [
      "1*1 = 1\n",
      "1*2 = 2\n",
      "2*1 = 2\n",
      "2*2 = 4\n",
      "3*1 = 3\n",
      "3*2 = 6\n"
     ]
    }
   ],
   "source": [
    "# Nested for loop\n",
    "'''\n",
    "We can place one for loop inside another.\n",
    "The inner loop completes all its iteration for each iteration of the inner loop.\n",
    "'''\n",
    "\n",
    "# Example\n",
    "for i in range(1,4):\n",
    "    for j in range(1,3):\n",
    "        print(f\"{i}*{j} = {i*j}\")"
   ]
  },
  {
   "cell_type": "code",
   "execution_count": 2,
   "id": "90770a0b-80e1-4441-ac62-6843adc0b590",
   "metadata": {},
   "outputs": [
    {
     "name": "stdout",
     "output_type": "stream",
     "text": [
      "Inception\n",
      "Interstellar\n",
      "The Matrix\n",
      "Avengers\n",
      "The Dark Knight\n"
     ]
    }
   ],
   "source": [
    "# List of favorite movies\n",
    "movies = [\"Inception\", \"Interstellar\", \"The Matrix\", \"Avengers\", \"The Dark Knight\"]\n",
    "for movie in movies:\n",
    "    print(movie)"
   ]
  },
  {
   "cell_type": "code",
   "execution_count": 7,
   "id": "928703e9-1b1e-4014-9faf-e9150e859d53",
   "metadata": {},
   "outputs": [
    {
     "name": "stdout",
     "output_type": "stream",
     "text": [
      "A\n",
      "y\n",
      "u\n",
      "s\n",
      "h\n",
      " \n",
      "J\n",
      "a\n",
      "i\n",
      "s\n",
      "w\n",
      "a\n",
      "l\n"
     ]
    }
   ],
   "source": [
    "# Loop to print full name\n",
    "full_name = \"Ayush Jaiswal\"\n",
    "for name in full_name:\n",
    "    print(name)"
   ]
  },
  {
   "cell_type": "code",
   "execution_count": 6,
   "id": "82fe595d-d8c0-4bde-b844-611c960e2ddb",
   "metadata": {},
   "outputs": [
    {
     "name": "stdout",
     "output_type": "stream",
     "text": [
      "0\n",
      "2\n",
      "4\n",
      "6\n",
      "8\n",
      "10\n",
      "12\n",
      "14\n",
      "16\n",
      "18\n",
      "20\n"
     ]
    }
   ],
   "source": [
    "# Loop to print even numbers from 0 to 20\n",
    "for num in range(0, 21, 2):\n",
    "    print(num)"
   ]
  },
  {
   "cell_type": "code",
   "execution_count": 12,
   "id": "14202002-2fb4-4931-915f-55e7d3a92a4d",
   "metadata": {},
   "outputs": [
    {
     "name": "stdout",
     "output_type": "stream",
     "text": [
      "Fruit: apple, Quantity: 10\n",
      "Fruit: banana, Quantity: 15\n",
      "Fruit: orange, Quantity: 5\n"
     ]
    }
   ],
   "source": [
    "# Loop through a dictionary and print each item\n",
    "inventory = {\"apple\": 10, \"banana\": 15, \"orange\": 5}\n",
    "for fruit, quantity in inventory.items():\n",
    "    print(f\"Fruit: {fruit}, Quantity: {quantity}\")"
   ]
  },
  {
   "cell_type": "code",
   "execution_count": 13,
   "id": "c795933f-6049-4326-92fc-e84f930eb2da",
   "metadata": {},
   "outputs": [
    {
     "name": "stdout",
     "output_type": "stream",
     "text": [
      "* * * \n",
      "* * * \n",
      "* * * \n"
     ]
    }
   ],
   "source": [
    "# Print a simple 3x3 grid of asterisks using nested loops\n",
    "for i in range(3):\n",
    "    for j in range(3):\n",
    "        print(\"*\", end=\" \")\n",
    "    print()  # new line after each row\n"
   ]
  },
  {
   "cell_type": "code",
   "execution_count": 14,
   "id": "64f33ff0-1772-4c9e-b01b-1ba93d63f7b8",
   "metadata": {},
   "outputs": [
    {
     "name": "stdin",
     "output_type": "stream",
     "text": [
      "Enter the total bill amount: $ 451\n"
     ]
    },
    {
     "name": "stdout",
     "output_type": "stream",
     "text": [
      "Discount applied: 10%\n",
      "Final bill after discount: $405.90\n"
     ]
    }
   ],
   "source": [
    "# Calculate discount based on total bill\n",
    "total_bill = float(input(\"Enter the total bill amount: $\"))\n",
    "discount = 0\n",
    "\n",
    "if total_bill >= 100:\n",
    "    discount = 10\n",
    "elif total_bill >= 50:\n",
    "    discount = 5\n",
    "    \n",
    "discount_amount = (discount / 100) * total_bill\n",
    "final_bill = total_bill - discount_amount\n",
    "\n",
    "print(f\"Discount applied: {discount}%\")\n",
    "print(f\"Final bill after discount: ${final_bill:.2f}\")\n"
   ]
  },
  {
   "cell_type": "code",
   "execution_count": null,
   "id": "7b624613-516c-4408-8c9d-38d3f61fa8b8",
   "metadata": {},
   "outputs": [],
   "source": []
  }
 ],
 "metadata": {
  "kernelspec": {
   "display_name": "Python [conda env:base] *",
   "language": "python",
   "name": "conda-base-py"
  },
  "language_info": {
   "codemirror_mode": {
    "name": "ipython",
    "version": 3
   },
   "file_extension": ".py",
   "mimetype": "text/x-python",
   "name": "python",
   "nbconvert_exporter": "python",
   "pygments_lexer": "ipython3",
   "version": "3.13.5"
  }
 },
 "nbformat": 4,
 "nbformat_minor": 5
}
