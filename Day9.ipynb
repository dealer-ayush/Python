{
  "cells": [
    {
      "cell_type": "code",
      "execution_count": null,
      "id": "9b1fec2b-cdaa-4f6c-ae2e-e120f0b9da0a",
      "metadata": {
        "trusted": true
      },
      "outputs": [],
      "source": [
        "# reduce() function\n",
        "'''\n",
        "The reduce() function is part of the functools module and needs to be imported. \n",
        "It applies a function of two arguments cumulatively to the items of an iterable, from left to right, to reduce the iterable to a single value.\n",
        "\n",
        "Syntax:\n",
        "   from functools import reduce\n",
        "   reduce(function, iterable, initializer)\n",
        "   \n",
        " Function: The function to apply (must take two arguments).\n",
        " Iterable: The sequence to reduce.\n",
        " Initializer (optional): An initial value placed before the items of the iterable in the calculation.\n",
        "'''\n",
        "\n",
        "# Example\n",
        "# Using a regular function\n",
        "from functools import reduce\n",
        "numbers = [1, 2, 3, 4, 5]\n",
        "def add(x, y):\n",
        "    return x + y\n",
        "sum_reduce = reduce(add, numbers)\n",
        "print(f\"Sum using reduce: {sum_reduce}\")\n",
        "\n",
        "print(\"\")\n",
        "\n",
        "# Using lambda\n",
        "sum_reduce_lambda = reduce(lambda x, y: x + y, numbers)\n",
        "print(f\"Sum using reduce (lambda): {sum_reduce_lambda}\") \n",
        "\n",
        "print(\"\")\n",
        "\n",
        "# Example with initializer\n",
        "product_reduce = reduce(lambda x, y: x * y, numbers, 10) \n",
        "print(f\"Product using reduce with initializer: {product_reduce}\") \n"
      ]
    },
    {
      "cell_type": "code",
      "execution_count": 1,
      "id": "21224948-b427-4ffd-879c-0c9fb342ce0a",
      "metadata": {
        "trusted": true
      },
      "outputs": [
        {
          "name": "stdout",
          "output_type": "stream",
          "text": [
            "\n",
            "Hello, Eve!\n",
            "Hello, Frank!\n",
            "\n",
            "ID of original_greeting: 1293682118304\n",
            "ID of new_greeting: 1293682118304\n"
          ]
        }
      ],
      "source": [
        "# Function Aliasing\n",
        "'''\n",
        "Function aliasing means assigning a function object to another variable name. \n",
        "You can then call the function using the new name. \n",
        "This demonstrates that functions in Python are \"first-class citizens\" - they can be treated like any other variable.\n",
        "'''\n",
        "\n",
        "# Example\n",
        "def original_greeting(name):\n",
        "    print(f\"Hello, {name}!\")\n",
        "\n",
        "print(\"\")\n",
        "\n",
        "# Create an alias for original_greeting\n",
        "new_greeting = original_greeting\n",
        "new_greeting(\"Eve\")    \n",
        "original_greeting(\"Frank\") \n",
        "\n",
        "print(\"\")\n",
        "\n",
        "# Both names refer to the same function object\n",
        "print(f\"ID of original_greeting: {id(original_greeting)}\")\n",
        "print(f\"ID of new_greeting: {id(new_greeting)}\")\n"
      ]
    },
    {
      "cell_type": "code",
      "execution_count": null,
      "id": "95247fbe-2603-4139-9d47-2e6808a82b89",
      "metadata": {
        "trusted": true
      },
      "outputs": [
        {
          "name": "stdout",
          "output_type": "stream",
          "text": [
            "Lambda add {3, 4}:  7\n",
            "\n",
            "Is 7 odd? True\n",
            "Is 10 odd? False\n",
            "\n",
            "Doubled numbers: [2, 4, 6, 8, 10]\n",
            "\n",
            "Names starting with A: ['Alice', 'Anna']\n"
          ]
        }
      ],
      "source": [
        "# Anonymous Function or Lambda Function\n",
        "'''\n",
        "Lambda functions are small, anonymous(unnamed) functions defined using the lambda keyword.\n",
        "They can take any number of arguments but can only have one expression.\n",
        "They are typically used for short, simple operations where a full def function would be overkill.\n",
        "\n",
        "Syntax\n",
        "  lambda argument : expression\n",
        "\n",
        " Arguments: Zero or more arguments.\n",
        " Expression: A single expression whose result is the return value of the lambda function.\n",
        "'''\n",
        "\n",
        "# Examples\n",
        "# 1. A lambda function to add two numbers\n",
        "add_lambda = lambda x, y: x + y\n",
        "print(\"Lambda add {3, 4}: \", add_lambda(3, 4))\n",
        "\n",
        "print(\"\")\n",
        "\n",
        "# 2. A lambda function to check if a number is odd\n",
        "is_odd = lambda num: num % 2 != 0\n",
        "print(\"Is 7 odd?\", is_odd(7))  \n",
        "print(\"Is 10 odd?\", is_odd(10))\n",
        "\n",
        "print(\"\")\n",
        "\n",
        "# 3. Using lambda directly with map and filter \n",
        "numbers = [1, 2, 3, 4, 5]\n",
        "doubled = list(map(lambda x: x * 2, numbers))\n",
        "print(\"Doubled numbers:\", doubled)\n",
        "\n",
        "print(\"\")\n",
        "\n",
        "# 4. Using lambda directly with map and filter \n",
        "names = [\"Alice\", \"Bob\", \"Anna\", \"Charlie\"]\n",
        "starts_with_a = list(filter(lambda name: name.startswith('A'), names))\n",
        "print(\"Names starting with A:\", starts_with_a)"
      ]
    },
    {
      "cell_type": "code",
      "execution_count": 7,
      "id": "74d385b3-8914-437e-9e3a-0e9344c7ecf5",
      "metadata": {
        "trusted": true
      },
      "outputs": [],
      "source": [
        "# Exercise"
      ]
    },
    {
      "cell_type": "code",
      "execution_count": null,
      "id": "8bbf6191-d391-4246-a6f2-6681f92b6391",
      "metadata": {
        "trusted": true
      },
      "outputs": [
        {
          "name": "stdout",
          "output_type": "stream",
          "text": [
            "15\n"
          ]
        }
      ],
      "source": [
        "'''\n",
        "Write a Python program that defines a global variable counter = 0. Create a function increment_counter() that increases the counter by 1. Call the function twice and print the value of counter after each call.\n",
        "'''\n",
        "def numbersum(n):\n",
        "    if n == 1:\n",
        "        return 1\n",
        "    else:\n",
        "        return n + numbersum(n-1)\n",
        "\n",
        "result = numbersum(5) \n",
        "print(result)"
      ]
    },
    {
      "cell_type": "code",
      "execution_count": null,
      "id": "8a8a339f-9fde-4c52-9cde-58c74af18b5d",
      "metadata": {
        "trusted": true
      },
      "outputs": [
        {
          "name": "stdout",
          "output_type": "stream",
          "text": [
            "[20, 40, 60, 80, 90, 50]\n"
          ]
        }
      ],
      "source": [
        "'''\n",
        "Define a recursive function sum_n_numbers(n) that calculates the sum of all positive integers from 1 to n. * Base Case: If n is 1, return 1. * Recursive Step: n + sum_n_numbers(n - 1). Test with n = 5 and n = 1.\n",
        "'''\n",
        "lst = [10, 20, 30, 40, 45, 25]\n",
        "doubled = list(map(lambda x: x*2, lst))\n",
        "print(doubled)"
      ]
    },
    {
      "cell_type": "code",
      "execution_count": null,
      "id": "465a0108-5337-4b6b-81fb-478ffd6c4a92",
      "metadata": {
        "trusted": true
      },
      "outputs": [
        {
          "name": "stdout",
          "output_type": "stream",
          "text": [
            "[30, 40, 45, 25]\n"
          ]
        }
      ],
      "source": [
        "'''\n",
        "Use map(), filter(), and a lambda function to perform the following: a. Double each number in the list [10, 20, 30, 40]. Print the new list. b. Filter out all numbers less than 25 from the list [15, 25, 35, 10, 45]. Print the new list.\n",
        "'''\n",
        "filtered = list(filter(lambda x: x >= 25, lst))\n",
        "print(filtered)"
      ]
    },
    {
      "cell_type": "code",
      "execution_count": null,
      "id": "a7afcaf1-3c46-46c2-a42e-528e1e343425",
      "metadata": {
        "trusted": true
      },
      "outputs": [
        {
          "name": "stdout",
          "output_type": "stream",
          "text": [
            "['HELLO', 'WORLD', 'PYTHON', 'PROGRAMMING']\n"
          ]
        }
      ],
      "source": [
        "'''\n",
        "Given a list of strings words = [\"hello\", \"world\", \"python\", \"programming\"]. Use map() and a lambda function to convert all words to uppercase. Print the resulting list.\n",
        "'''\n",
        "words = [\"hello\", \"world\", \"python\", \"programming\"]\n",
        "uppercased = list(map(lambda x: x.upper(), words))\n",
        "print(uppercased)"
      ]
    },
    {
      "cell_type": "code",
      "execution_count": null,
      "id": "4d49dd1d-dee0-42cb-b6ca-facb5a7da26a",
      "metadata": {
        "trusted": true
      },
      "outputs": [
        {
          "name": "stdout",
          "output_type": "stream",
          "text": [
            "[22, 30, 28]\n"
          ]
        }
      ],
      "source": [
        "'''\n",
        "You have a list of temperatures temps = [22, 15, 30, 8, 28, 19]. Use filter() and a lambda function to get only temperatures that are between 20 and 30 (inclusive). Print the filtered list.\n",
        "'''\n",
        "temps = [22, 15, 30, 8, 28, 19]\n",
        "filtered_temps = list(filter(lambda x: 20 <= x <= 30, temps))\n",
        "print(filtered_temps)"
      ]
    },
    {
      "cell_type": "code",
      "execution_count": 2,
      "id": "0741e784-f779-47fc-99d2-3477c9c4bde3",
      "metadata": {
        "trusted": true
      },
      "outputs": [
        {
          "name": "stdout",
          "output_type": "stream",
          "text": [
            "Outer function received: hello\n",
            "Inner function saying: HELLO!!!\n"
          ]
        }
      ],
      "source": [
        "# nested function\n",
        "'''\n",
        "A nested function is a function defined inside another function.\n",
        "The inner is local to the outer function and can only be accessed from within the outer function.\n",
        "\n",
        "Key characteristics of nested functions:\n",
        "->Encapsulation: They help in encapsulating logic that is only relevant to the outer function.\n",
        "->Closures: Inner functions can \"remember\" and access variables from their enclosing scope, even after the outer function has finished executing. This concept is called a \"closure.\"\n",
        "'''\n",
        "\n",
        "# Example \n",
        "def outer_function(text):\n",
        "    print(f\"Outer function received: {text}\")\n",
        "    def inner_function():\n",
        "        print(f\"Inner function saying: {text.upper()}!!!\")\n",
        "    inner_function()     \n",
        "outer_function(\"hello\")"
      ]
    },
    {
      "cell_type": "code",
      "execution_count": 13,
      "id": "41099374-3edc-400c-a8d5-b5654ea5eda3",
      "metadata": {
        "trusted": true
      },
      "outputs": [
        {
          "name": "stdout",
          "output_type": "stream",
          "text": [
            "Double 5: 10\n",
            "Triple 5: 15\n"
          ]
        }
      ],
      "source": [
        "# Return function\n",
        "\n",
        "def multiplier(n):\n",
        "    \"\"\"\n",
        "    Returns a function that multiplies its input by n.\n",
        "    \"\"\"\n",
        "    def multiply_by_n(x):\n",
        "        return x * n\n",
        "    return multiply_by_n\n",
        "double = multiplier(2)\n",
        "triple = multiplier(3)\n",
        "\n",
        "print(f\"Double 5: {double(5)}\")\n",
        "print(f\"Triple 5: {triple(5)}\")"
      ]
    },
    {
      "cell_type": "code",
      "execution_count": 15,
      "id": "c697916e-0951-4358-ac91-a53105f2c6e9",
      "metadata": {
        "trusted": true
      },
      "outputs": [],
      "source": [
        "# Practice Questions"
      ]
    },
    {
      "cell_type": "code",
      "execution_count": null,
      "id": "58b61c46-2571-456c-b4ff-26c99672192a",
      "metadata": {
        "trusted": true
      },
      "outputs": [
        {
          "name": "stdout",
          "output_type": "stream",
          "text": [
            "8\n",
            "17\n"
          ]
        }
      ],
      "source": [
        "'''\n",
        "Define an outer function create_adder(x) that takes a number x. Inside create_adder, define and return an inner function add_x(y) that takes another number y and returns the sum of x (from the outer scope) and y. Create two new functions using create_adder: add_5 (which adds 5 to its input) and add_10 (which adds 10 to its input). Test both.\n",
        "'''\n",
        "def create_adder(x):\n",
        "    def add_x(y):\n",
        "        return x + y\n",
        "    return add_x\n",
        "\n",
        "add_5 = create_adder(5)\n",
        "add_10 = create_adder(10)\n",
        "\n",
        "print(add_5(3))   \n",
        "print(add_10(7))"
      ]
    },
    {
      "cell_type": "code",
      "execution_count": null,
      "id": "ffddf140-6b0a-40d8-95d2-cbbc468ebf2c",
      "metadata": {
        "trusted": true
      },
      "outputs": [
        {
          "name": "stdout",
          "output_type": "stream",
          "text": [
            "Function Before Start\n",
            "Hello!\n",
            "Function After Start\n",
            "\n",
            "10\n"
          ]
        }
      ],
      "source": [
        "# Decorator function\n",
        "'''\n",
        "A decorator is a special type of function that takes another function as an argument, adds some functionality to it, and then returns the modified function without altering the original function's source code.\n",
        "Decorators are commonly used for tasks like logging, access control, timing function execution, and more.\n",
        "Python provides a concise syntax for applying decorators using the @ symbol placed directly above the function definition.\n",
        "'''\n",
        "\n",
        "# Example\n",
        "# 1.\n",
        "def my(func):\n",
        "    def wrapper():\n",
        "        print(\"Function Before Start\")\n",
        "        func()\n",
        "        print(\"Function After Start\")\n",
        "    return wrapper\n",
        "@my\n",
        "def hello():\n",
        "    print(\"Hello!\")\n",
        "hello()\n",
        "\n",
        "print(\"\")\n",
        "\n",
        "# 2.\n",
        "def d_result(func):\n",
        "    def wrapper(x,y):\n",
        "        result = func(x,y)\n",
        "        return result*2\n",
        "    return wrapper\n",
        "@d_result\n",
        "def add(a,b):\n",
        "    return a+b\n",
        "print(add(2,3))"
      ]
    },
    {
      "cell_type": "code",
      "execution_count": 3,
      "id": "6794d921",
      "metadata": {},
      "outputs": [
        {
          "name": "stdout",
          "output_type": "stream",
          "text": [
            "--- Calling add ---\n",
            "LOG: Calling function 'add' with args=(10, 5), kwargs={}\n",
            "LOG: Function 'add' finished. Result: 15\n",
            "\n",
            "--- Calling greet ---\n",
            "LOG: Calling function 'greet' with args=('Alice',), kwargs={}\n",
            "LOG: Function 'greet' finished. Result: Hello, Alice!\n"
          ]
        },
        {
          "data": {
            "text/plain": [
              "'Hello, Alice!'"
            ]
          },
          "execution_count": 3,
          "metadata": {},
          "output_type": "execute_result"
        }
      ],
      "source": [
        "# Example: A simple logging decorator\n",
        "\n",
        "def log_function_call(func):\n",
        "    \"\"\"A decorator that logs when a function is called.\"\"\"\n",
        "    def wrapper(*args, **kwargs):\n",
        "        print(f\"LOG: Calling function '{func.__name__}' with args={args}, kwargs={kwargs}\")\n",
        "        result = func(*args, **kwargs)\n",
        "        print(f\"LOG: Function '{func.__name__}' finished. Result: {result}\")\n",
        "        return result\n",
        "    return wrapper\n",
        "@log_function_call # Apply the decorator\n",
        "def add(a, b):\n",
        "    \"\"\"Adds two numbers.\"\"\"\n",
        "    return a + b\n",
        "@log_function_call\n",
        "def greet(name):\n",
        "    \"\"\"Greets a person.\"\"\"\n",
        "    return f\"Hello, {name}!\"\n",
        "print(\"--- Calling add ---\")\n",
        "add(10, 5)\n",
        "print(\"\\n--- Calling greet ---\")\n",
        "greet(\"Alice\")\n"
      ]
    },
    {
      "cell_type": "code",
      "execution_count": null,
      "id": "bdc8345d",
      "metadata": {},
      "outputs": [],
      "source": [
        "# Decorator Chaining\n",
        "'''\n",
        "You can apply multiple decorators to a single function. This is known as decorator chaining. \n",
        "When multiple decorators are applied, they are applied from bottom to top (or inside out), and executed from top to bottom (or outside in).\n",
        "'''\n",
        "\n",
        "# Example: Logging + Timing\n",
        "\n",
        "# First decorator: Logging\n",
        "def log(func):\n",
        "    def wrapper(*args, **kwargs):\n",
        "        print(f\"[LOG] Running function: {func.__name__}\")\n",
        "        return func(*args, **kwargs)\n",
        "    return wrapper\n",
        "# Second decorator: Timing\n",
        "def timer(func):\n",
        "    def wrapper(*args, **kwargs):\n",
        "        start = time.time()\n",
        "        result = func(*args, **kwargs)\n",
        "        end = time.time()\n",
        "        print(f\"[TIMER] Execution time: {end - start:.4f} seconds\")\n",
        "        return result\n",
        "    return wrapper\n",
        "@log\n",
        "@timer\n",
        "def slow_function():\n",
        "    time.sleep(2)   # 2 second delay \n",
        "    print(\"Work complete!\")\n",
        "# Call the function\n",
        "slow_function()\n"
      ]
    },
    {
      "cell_type": "code",
      "execution_count": 8,
      "id": "a1d23052",
      "metadata": {},
      "outputs": [
        {
          "name": "stdout",
          "output_type": "stream",
          "text": [
            "HELLO WORLD!\n"
          ]
        }
      ],
      "source": [
        "# Example\n",
        "def make_uppercase(func):\n",
        "    \"\"\"Converts the function's result to uppercase.\"\"\"\n",
        "    def wrapper(*args, **kwargs):\n",
        "        result = func(*args, **kwargs)\n",
        "        return result.upper()\n",
        "    return wrapper\n",
        "def add_exclamation(func):\n",
        "    \"\"\"Adds an exclamation mark to the end of the function's result.\"\"\"\n",
        "    def wrapper(*args, **kwargs):\n",
        "        result = func(*args, **kwargs)\n",
        "        return result + \"!\"\n",
        "    return wrapper\n",
        "@add_exclamation   # Applied second, executes first (outermost wrapper)\n",
        "@make_uppercase    # Applied first, executes second (innermost wrapper)\n",
        "def get_message(msg):\n",
        "    return msg\n",
        "print(get_message(\"hello world\"))"
      ]
    },
    {
      "cell_type": "code",
      "execution_count": 28,
      "id": "a52eef6c-8203-4e16-a7f2-345e366cb084",
      "metadata": {
        "trusted": true
      },
      "outputs": [],
      "source": [
        "# Practice question"
      ]
    },
    {
      "cell_type": "code",
      "execution_count": null,
      "id": "21899fab-37bc-4a0c-8a69-aad8e35bc7fd",
      "metadata": {
        "trusted": true
      },
      "outputs": [
        {
          "name": "stdout",
          "output_type": "stream",
          "text": [
            "Task finished!\n",
            "Execution time: 2.00 seconds\n"
          ]
        }
      ],
      "source": [
        "'''\n",
        "Write a decorator timing_decorator that measures the execution time of any function it decorates. It should print how long the function took to execute. Decorate a simple function long_running_task() that simulates work using time.sleep(2) and prints a message.\n",
        "'''\n",
        "import time\n",
        "\n",
        "def timing_decorator(func):\n",
        "    def wrapper(*args, **kwargs):\n",
        "        start_time = time.time()\n",
        "        result = func(*args, **kwargs)\n",
        "        end_time = time.time()\n",
        "        print(f\"Execution time: {end_time - start_time:.2f} seconds\")\n",
        "        return result\n",
        "    return wrapper\n",
        "\n",
        "@timing_decorator\n",
        "def long_running_task():\n",
        "    time.sleep(2)\n",
        "    print(\"Task finished!\")\n",
        "\n",
        "long_running_task()"
      ]
    },
    {
      "cell_type": "code",
      "execution_count": null,
      "id": "626c6653-4e2e-4bdb-b26f-7f82a17cb50c",
      "metadata": {
        "trusted": true
      },
      "outputs": [
        {
          "name": "stdout",
          "output_type": "stream",
          "text": [
            "Authentication failed!\n"
          ]
        }
      ],
      "source": [
        "'''\n",
        "Write a decorator authentication_required that checks if a user is \"authenticated\" before allowing a function to run. If not authenticated, it should print \"Authentication failed!\" and not run the decorated function. Otherwise, it runs the function. (Hint: You can use a simple boolean variable is_authenticated = False and change it to True to test the authenticated case).\n",
        "'''\n",
        "is_authenticated = False  \n",
        "\n",
        "def authentication_required(func):\n",
        "    def wrapper(*args, **kwargs):\n",
        "        if not is_authenticated:\n",
        "            print(\"Authentication failed!\")\n",
        "            return\n",
        "        return func(*args, **kwargs)\n",
        "    return wrapper\n",
        "\n",
        "@authentication_required\n",
        "def sensitive_action():\n",
        "    print(\"Sensitive action performed.\")\n",
        "\n",
        "sensitive_action()"
      ]
    }
  ],
  "metadata": {
    "kernelspec": {
      "display_name": "base",
      "language": "python",
      "name": "python3"
    },
    "language_info": {
      "codemirror_mode": {
        "name": "ipython",
        "version": 3
      },
      "file_extension": ".py",
      "mimetype": "text/x-python",
      "name": "python",
      "nbconvert_exporter": "python",
      "pygments_lexer": "ipython3",
      "version": "3.13.5"
    }
  },
  "nbformat": 4,
  "nbformat_minor": 5
}
