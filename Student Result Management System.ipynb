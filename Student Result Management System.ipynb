{
  "metadata": {
    "kernelspec": {
      "name": "python",
      "display_name": "Python (Pyodide)",
      "language": "python"
    },
    "language_info": {
      "codemirror_mode": {
        "name": "python",
        "version": 3
      },
      "file_extension": ".py",
      "mimetype": "text/x-python",
      "name": "python",
      "nbconvert_exporter": "python",
      "pygments_lexer": "ipython3",
      "version": "3.8"
    }
  },
  "nbformat_minor": 5,
  "nbformat": 4,
  "cells": [
    {
      "id": "d32dfea4-e607-4ee9-a7b0-39a7f3b9c46e",
      "cell_type": "raw",
      "source": "Project 1 : Student Result Management System",
      "metadata": {}
    },
    {
      "id": "e092e45a-e5c9-4b41-b57e-3abb55a85782",
      "cell_type": "code",
      "source": "from functools import reduce\n\n# Decorators \ndef validate_student(func):\n    def wrapper(student_data, *args, **kwargs):\n        if not student_data:\n            print(\"No student data available!\")\n            return None\n        return func(student_data, *args, **kwargs)\n    return wrapper\n\ndef logger(func):\n    def wrapper(*args, **kwargs):\n        print(f\"\\nFunction '{func.__name__}' called...\")\n        return func(*args, **kwargs)\n    return wrapper\n\n@validate_student\n@logger\ndef calculate_results(student_data):\n    for roll, (details, marks) in student_data.items():\n        total = sum(marks.values())\n        avg = total / len(marks)\n        grade = \"A\" if avg >= 90 else \"B\" if avg >= 80 else \"C\" if avg >= 70 else \"D\" if avg >= 60 else \"E\" if avg >= 50 else \"F\"  \n        print(f\"Result -> Roll: {roll}, Name: {details[0]}, Total: {total}, Avg: {avg:.2f}, Grade: {grade}\")\n\n\n\n# Recursive Function \ndef factorial(n):\n    return 1 if n == 0 else n * factorial(n-1)\n\n    \n# Helper Function\ndef input_marks(subject):\n    \"\"\"Ensures marks input is between 0 and 100\"\"\"\n    while True:\n        try:\n            marks = int(input(f\"Enter marks in {subject}: \"))\n            if 0 <= marks <= 100:\n                return marks\n            else:\n                print(\"Marks must be between 0 and 100. Try again.\")\n        except ValueError:\n            print(\"Invalid input! Enter a number.\")\n\n            \n\n# Main Program \ndef main():\n    student_data = {}  \n    subjects = frozenset([\"Math\", \"Science\", \"English\", \"Hindi\", \"Social Science\"])  \n    result_calculator = calculate_results  \n    \n    while True:\n        print(\"\\n===== Student Result Management System =====\")\n        print(\"1. Add Student\")\n        print(\"2. Show All Results\")\n        print(\"3. Show Pass/Fail Students\")\n        print(\"4. Show Class Average & Topper\")\n        print(\"5. Factorial Bonus (for testing recursion)\")\n        print(\"6. Exit\")\n\n        choice = input(\"Enter your choice: \")\n\n        if choice == \"1\":\n            name = input(\"Enter student name: \")\n            roll = int(input(\"Enter roll number: \"))\n\n            marks = {}\n            for sub in subjects:\n                marks[sub] = input_marks(sub)\n\n            # Store in dictionary\n            student_data[roll] = ((name, roll), marks)\n            print(\"Student added successfully.\")\n\n        elif choice == \"2\":\n            result_calculator(student_data)\n\n        elif choice == \"3\":\n            passed_students = list(filter(lambda s: sum(s[1].values()) / len(s[1]) >= 50, [v for v in student_data.values()]))\n            failed_students = list(filter(lambda s: sum(s[1].values()) / len(s[1]) < 50, [v for v in student_data.values()]))\n\n            print(\"Passed Students:\", [s[0][0] for s in passed_students])\n            print(\"Failed Students:\", [s[0][0] for s in failed_students])\n\n        elif choice == \"4\":\n            if student_data:\n                total_marks = [sum(marks.values()) for _, marks in student_data.values()]\n                class_avg = reduce(lambda a, b: a + b, total_marks) / len(total_marks)\n                topper = reduce(lambda a, b: a if sum(a[1].values()) > sum(b[1].values()) else b, student_data.values())\n                print(\"Class Average Marks:\", class_avg)\n                print(\"Topper:\", topper[0][0], \"with total\", sum(topper[1].values()))\n            else:\n                print(\"No students found.\")\n\n        elif choice == \"5\":\n            n = int(input(\"Enter a number to compute factorial: \"))\n            print(f\"Factorial of {n} = {factorial(n)}\")\n\n        elif choice == \"6\":\n            print(\"Exiting program. Goodbye!\")\n            break\n\n        else:\n            print(\"Invalid choice, try again!\")\n\n# Run Program\nif __name__ == \"__main__\":\n    main()",
      "metadata": {
        "trusted": true
      },
      "outputs": [
        {
          "name": "stdout",
          "output_type": "stream",
          "text": "\n===== Student Result Management System =====\n1. Add Student\n2. Show All Results\n3. Show Pass/Fail Students\n4. Show Class Average & Topper\n5. Factorial Bonus (for testing recursion)\n6. Exit\n"
        },
        {
          "output_type": "stream",
          "name": "stdin",
          "text": "Enter your choice:  1\nEnter student name:  Ayush\nEnter roll number:  14\nEnter marks in Math:  98\nEnter marks in Social Science:  87\nEnter marks in English:  94\nEnter marks in Science:  74\nEnter marks in Hindi:  96\n"
        },
        {
          "name": "stdout",
          "output_type": "stream",
          "text": "Student added successfully.\n\n===== Student Result Management System =====\n1. Add Student\n2. Show All Results\n3. Show Pass/Fail Students\n4. Show Class Average & Topper\n5. Factorial Bonus (for testing recursion)\n6. Exit\n"
        },
        {
          "output_type": "stream",
          "name": "stdin",
          "text": "Enter your choice:  1\nEnter student name:  Abhi\nEnter roll number:  23\nEnter marks in Math:  45\nEnter marks in Social Science:  62\nEnter marks in English:  32\nEnter marks in Science:  54\nEnter marks in Hindi:  41\n"
        },
        {
          "name": "stdout",
          "output_type": "stream",
          "text": "Student added successfully.\n\n===== Student Result Management System =====\n1. Add Student\n2. Show All Results\n3. Show Pass/Fail Students\n4. Show Class Average & Topper\n5. Factorial Bonus (for testing recursion)\n6. Exit\n"
        },
        {
          "output_type": "stream",
          "name": "stdin",
          "text": "Enter your choice:  1\nEnter student name:  Atul\nEnter roll number:  43\nEnter marks in Math:  74\nEnter marks in Social Science:  69\nEnter marks in English:  43\nEnter marks in Science:  54\nEnter marks in Hindi:  64\n"
        },
        {
          "name": "stdout",
          "output_type": "stream",
          "text": "Student added successfully.\n\n===== Student Result Management System =====\n1. Add Student\n2. Show All Results\n3. Show Pass/Fail Students\n4. Show Class Average & Topper\n5. Factorial Bonus (for testing recursion)\n6. Exit\n"
        },
        {
          "output_type": "stream",
          "name": "stdin",
          "text": "Enter your choice:  1\nEnter student name:  Pal\nEnter roll number:  46\nEnter marks in Math:  64\nEnter marks in Social Science:  31\nEnter marks in English:  56\nEnter marks in Science:  78\nEnter marks in Hindi:  97\n"
        },
        {
          "name": "stdout",
          "output_type": "stream",
          "text": "Student added successfully.\n\n===== Student Result Management System =====\n1. Add Student\n2. Show All Results\n3. Show Pass/Fail Students\n4. Show Class Average & Topper\n5. Factorial Bonus (for testing recursion)\n6. Exit\n"
        },
        {
          "output_type": "stream",
          "name": "stdin",
          "text": "Enter your choice:  1\nEnter student name:  Ishi\nEnter roll number:  38\nEnter marks in Math:  76\nEnter marks in Social Science:  89\nEnter marks in English:  94\nEnter marks in Science:  84\nEnter marks in Hindi:  89\n"
        },
        {
          "name": "stdout",
          "output_type": "stream",
          "text": "Student added successfully.\n\n===== Student Result Management System =====\n1. Add Student\n2. Show All Results\n3. Show Pass/Fail Students\n4. Show Class Average & Topper\n5. Factorial Bonus (for testing recursion)\n6. Exit\n"
        },
        {
          "output_type": "stream",
          "name": "stdin",
          "text": "Enter your choice:  2\n"
        },
        {
          "name": "stdout",
          "output_type": "stream",
          "text": "\nFunction 'calculate_results' called...\nResult -> Roll: 14, Name: Ayush, Total: 449, Avg: 89.80, Grade: B\nResult -> Roll: 23, Name: Abhi, Total: 234, Avg: 46.80, Grade: F\nResult -> Roll: 43, Name: Atul, Total: 304, Avg: 60.80, Grade: D\nResult -> Roll: 46, Name: Pal, Total: 326, Avg: 65.20, Grade: D\nResult -> Roll: 38, Name: Ishi, Total: 432, Avg: 86.40, Grade: B\n\n===== Student Result Management System =====\n1. Add Student\n2. Show All Results\n3. Show Pass/Fail Students\n4. Show Class Average & Topper\n5. Factorial Bonus (for testing recursion)\n6. Exit\n"
        },
        {
          "output_type": "stream",
          "name": "stdin",
          "text": "Enter your choice:  3\n"
        },
        {
          "name": "stdout",
          "output_type": "stream",
          "text": "Passed Students: ['Ayush', 'Atul', 'Pal', 'Ishi']\nFailed Students: ['Abhi']\n\n===== Student Result Management System =====\n1. Add Student\n2. Show All Results\n3. Show Pass/Fail Students\n4. Show Class Average & Topper\n5. Factorial Bonus (for testing recursion)\n6. Exit\n"
        },
        {
          "output_type": "stream",
          "name": "stdin",
          "text": "Enter your choice:  4\n"
        },
        {
          "name": "stdout",
          "output_type": "stream",
          "text": "Class Average Marks: 349.0\nTopper: Ayush with total 449\n\n===== Student Result Management System =====\n1. Add Student\n2. Show All Results\n3. Show Pass/Fail Students\n4. Show Class Average & Topper\n5. Factorial Bonus (for testing recursion)\n6. Exit\n"
        },
        {
          "output_type": "stream",
          "name": "stdin",
          "text": "Enter your choice:  5\nEnter a number to compute factorial:  10\n"
        },
        {
          "name": "stdout",
          "output_type": "stream",
          "text": "Factorial of 10 = 3628800\n\n===== Student Result Management System =====\n1. Add Student\n2. Show All Results\n3. Show Pass/Fail Students\n4. Show Class Average & Topper\n5. Factorial Bonus (for testing recursion)\n6. Exit\n"
        },
        {
          "output_type": "stream",
          "name": "stdin",
          "text": "Enter your choice:  6\n"
        },
        {
          "name": "stdout",
          "output_type": "stream",
          "text": "Exiting program. Goodbye!\n"
        }
      ],
      "execution_count": 13
    },
    {
      "id": "53255356-fd34-4778-8e23-8e32d810f444",
      "cell_type": "code",
      "source": "",
      "metadata": {
        "trusted": true
      },
      "outputs": [],
      "execution_count": null
    }
  ]
}