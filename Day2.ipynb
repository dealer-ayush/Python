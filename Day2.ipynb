{
 "cells": [
  {
   "cell_type": "code",
   "execution_count": 7,
   "id": "9cc32dd2-9d1a-47e6-b076-93de72778e67",
   "metadata": {},
   "outputs": [
    {
     "name": "stdout",
     "output_type": "stream",
     "text": [
      "range(0, 4)\n"
     ]
    }
   ],
   "source": [
    "n=range(4)\n",
    "print(n)"
   ]
  },
  {
   "cell_type": "code",
   "execution_count": 9,
   "id": "e9a733ee",
   "metadata": {},
   "outputs": [
    {
     "name": "stdout",
     "output_type": "stream",
     "text": [
      "[0, 1, 2, 3]\n"
     ]
    }
   ],
   "source": [
    "n=range(4)\n",
    "print(list(n))"
   ]
  },
  {
   "cell_type": "code",
   "execution_count": 25,
   "id": "91d5748a-333d-4edd-b883-acaaccef485c",
   "metadata": {},
   "outputs": [
    {
     "name": "stdout",
     "output_type": "stream",
     "text": [
      "[10, 20, 30, 40, 50]\n",
      "['Ayush', 'pal']\n"
     ]
    }
   ],
   "source": [
    "my_list = [10,20,30,40,50]\n",
    "names = [\"Ayush\", \"pal\"]\n",
    "print(my_list)\n",
    "print(names)"
   ]
  },
  {
   "cell_type": "code",
   "execution_count": 26,
   "id": "2448e8bb",
   "metadata": {},
   "outputs": [
    {
     "name": "stdout",
     "output_type": "stream",
     "text": [
      "[10, 20, 30, 40, 50]\n",
      "50\n",
      "['Ayush', 'pal']\n",
      "Ayush\n"
     ]
    }
   ],
   "source": [
    "my_list = [10,20,30,40,50]\n",
    "names = [\"Ayush\", \"pal\"]\n",
    "print(my_list)\n",
    "print(my_list[4])\n",
    "print(names)\n",
    "print(names[0])"
   ]
  },
  {
   "cell_type": "code",
   "execution_count": 27,
   "id": "e740d8c0",
   "metadata": {},
   "outputs": [
    {
     "name": "stdout",
     "output_type": "stream",
     "text": [
      "[10, 20, 30, 40, 50]\n",
      "50\n",
      "['Ayush', 'pal']\n",
      "Ayush\n",
      "[10, 20, 250, 40, 50]\n"
     ]
    }
   ],
   "source": [
    "my_list = [10,20,30,40,50]\n",
    "names = [\"Ayush\", \"pal\"]\n",
    "print(my_list)\n",
    "print(my_list[4])\n",
    "print(names)\n",
    "print(names[0])\n",
    "my_list[2] = 250\n",
    "print(my_list)"
   ]
  },
  {
   "cell_type": "code",
   "execution_count": 28,
   "id": "30056c8a",
   "metadata": {},
   "outputs": [
    {
     "name": "stdout",
     "output_type": "stream",
     "text": [
      "[10, 20, 30, 40, 50]\n",
      "50\n",
      "['Ayush', 'Pal', 'Nobi']\n",
      "Ayush\n",
      "[10, 20, 250, 40, 50]\n",
      "Nobi\n"
     ]
    }
   ],
   "source": [
    "my_list = [10,20,30,40,50]\n",
    "names = [\"Ayush\", \"Pal\", \"Nobi\"]\n",
    "print(my_list)\n",
    "print(my_list[4])\n",
    "print(names)\n",
    "print(names[0])\n",
    "my_list[2] = 250\n",
    "print(my_list)\n",
    "print(names[-1])"
   ]
  },
  {
   "cell_type": "code",
   "execution_count": 38,
   "id": "d9398acd-1e47-4e79-ba57-90ceaccc7f95",
   "metadata": {},
   "outputs": [
    {
     "name": "stdout",
     "output_type": "stream",
     "text": [
      "[1, 2, 3, 4, 5]\n",
      "[1, 2, 3]\n",
      "[2, 5, 8]\n",
      "[1, 2, 3, 4, 5, 6]\n",
      "[10, 9, 8, 7, 6]\n"
     ]
    }
   ],
   "source": [
    "#slicing operation\n",
    "g = [1,2,3,4,5,6,7,8,9,10]\n",
    "print(g[0:5])\n",
    "print(g[:3])\n",
    "print(g[1:9:3])\n",
    "print(g[0:6:])\n",
    "print(g[-1:4:-1])"
   ]
  },
  {
   "cell_type": "code",
   "execution_count": 59,
   "id": "ba6856c4-0134-4f03-9e1f-11e955c0cb40",
   "metadata": {},
   "outputs": [
    {
     "name": "stdout",
     "output_type": "stream",
     "text": [
      "[10, 20, 30, 40, 50, 25]\n",
      "[]\n",
      "[78, 96, 14]\n",
      "3\n",
      "[1, 2, 3, 4]\n",
      "2\n",
      "[15, 16, 25, 17, 18, 19, 20]\n",
      "[15, 16, 17, 19, 20]\n",
      "[15, 17, 18, 19, 20]\n",
      "[14, 21, 24, 26, 41, 43, 57, 85, 95]\n",
      "[1, 2, 3, 4, 5, 6, 7, 8, 9, 10]\n"
     ]
    }
   ],
   "source": [
    "#List methods\n",
    "\n",
    "#1. Append(item)\n",
    "\n",
    "no = [10,20,30,40,50]\n",
    "no.append(25)\n",
    "print(no)\n",
    "\n",
    "#2. Clear()\n",
    "\n",
    "n = [1,12,14,15]\n",
    "n.clear()\n",
    "print(n)\n",
    "\n",
    "#3. Copy()\n",
    "\n",
    "a = [45,25,87,56,95]\n",
    "b = [78,96,14]\n",
    "a = b.copy()\n",
    "print(a)\n",
    "\n",
    "#4. Count()\n",
    "\n",
    "v = [1,4,5,2,4,1,4,2,5]\n",
    "print(v.count(4))\n",
    "\n",
    "#5. Extend(iterable)\n",
    "\n",
    "list1 = [1,2]\n",
    "list2 = [3,4]\n",
    "list1.extend(list2)\n",
    "print(list1)\n",
    "\n",
    "#6. Index(item, [start,end])\n",
    "\n",
    "letters = ['a','b','c','a']\n",
    "print(letters.index('c'))\n",
    "\n",
    "#7. Insert(index,item)\n",
    "\n",
    "list = [15,16,17,18,19,20]\n",
    "list.insert(2,25)\n",
    "print(list)\n",
    "\n",
    "#8. Pop(index)\n",
    "\n",
    "list = [15,16,17,18,19,20]\n",
    "list.pop(3)\n",
    "print(list)\n",
    "\n",
    "#9. Remove(item)\n",
    "\n",
    "list = [15,16,17,18,19,20]\n",
    "list.remove(16)\n",
    "print(list)\n",
    "\n",
    "#10. Sort()\n",
    "\n",
    "l = [14,57,41,85,43,21,26,95,24]\n",
    "l.sort()\n",
    "print(l)\n",
    "\n",
    "#11. Reverse()\n",
    "\n",
    "r = [10,9,8,7,6,5,4,3,2,1]\n",
    "r.reverse()\n",
    "print(r)"
   ]
  },
  {
   "cell_type": "code",
   "execution_count": 62,
   "id": "8eee53b3-e43e-4262-8da6-025c5f3cde4b",
   "metadata": {},
   "outputs": [
    {
     "name": "stdout",
     "output_type": "stream",
     "text": [
      "['Red', 'Green', 'Blue', 'Yellow', 'Purple']\n",
      "['Red', 'Orange', 'Green', 'Blue', 'Yellow', 'Purple']\n",
      "['Red', 'Orange', 'Blue', 'Yellow', 'Purple']\n"
     ]
    }
   ],
   "source": [
    "color = [\"Red\", \"Green\", \"Blue\", \"Yellow\"]\n",
    "color.append(\"Purple\")\n",
    "print(color)\n",
    "color.insert(1, \"Orange\")\n",
    "print(color)\n",
    "color.remove(\"Green\")\n",
    "print(color)"
   ]
  },
  {
   "cell_type": "code",
   "execution_count": 66,
   "id": "314ccde5-1907-4c3c-af51-5ac90187fa31",
   "metadata": {},
   "outputs": [
    {
     "name": "stdout",
     "output_type": "stream",
     "text": [
      "[1, 2, 3, 4, 5]\n",
      "[5, 6, 7, 8, 9]\n",
      "[1, 3, 5, 7, 9]\n",
      "[10, 9, 8, 7, 6, 5, 4, 3, 2, 1]\n"
     ]
    }
   ],
   "source": [
    "'''\n",
    "Create a list called numbers containing integers from 1 to 10. Then using list slicing:\n",
    "1> Print the first five number.\n",
    "2> Print numbers from the 4th to the 8th (internally).\n",
    "3> Print every second number in the list.\n",
    "4> Print the list in reverse order.\n",
    "'''\n",
    "Number = [1,2,3,4,5,6,7,8,9,10]\n",
    "print(Number[0:5])\n",
    "print(Number[4:9])\n",
    "print(Number[::2])\n",
    "print(Number[::-1])"
   ]
  },
  {
   "cell_type": "code",
   "execution_count": 68,
   "id": "b5abecb5-1eb1-4ef6-8a5e-741a0caf3707",
   "metadata": {},
   "outputs": [
    {
     "name": "stdout",
     "output_type": "stream",
     "text": [
      "10\n",
      "(20, 30, 40)\n"
     ]
    }
   ],
   "source": [
    "#Tuple\n",
    "\n",
    "my_tuple = (10, 20, 30, 40, 50)\n",
    "print(my_tuple[0])\n",
    "print(my_tuple[1:4])  #Tuple slicing"
   ]
  },
  {
   "cell_type": "code",
   "execution_count": 72,
   "id": "d764425e-eb83-418e-a2f2-8d7992f5d2f6",
   "metadata": {},
   "outputs": [
    {
     "name": "stdout",
     "output_type": "stream",
     "text": [
      "10\n",
      "[30, 40]\n",
      "(10, 20, [30, 40, 50])\n"
     ]
    }
   ],
   "source": [
    "data_tuple = (10, 20, [30,40])\n",
    "print(data_tuple[0])\n",
    "print(data_tuple[2])\n",
    "data_tuple[2].append(50)\n",
    "print(data_tuple)"
   ]
  },
  {
   "cell_type": "code",
   "execution_count": 74,
   "id": "1e8ebf78-d5d5-4261-9326-538975a5587b",
   "metadata": {},
   "outputs": [
    {
     "name": "stdout",
     "output_type": "stream",
     "text": [
      "3\n",
      "10\n"
     ]
    }
   ],
   "source": [
    "tuple = (1,2,3,4,5,6,7,8,9,10)\n",
    "print(tuple[2])\n",
    "print(len(tuple))"
   ]
  },
  {
   "cell_type": "code",
   "execution_count": 4,
   "id": "5c30652e-14ec-46c2-a529-03def47641a4",
   "metadata": {},
   "outputs": [
    {
     "name": "stdout",
     "output_type": "stream",
     "text": [
      "[1, 2, 3, 4, 5]\n"
     ]
    }
   ],
   "source": [
    "ayu = (1,2,3,4,5)\n",
    "a1 = list(ayu)\n",
    "print(a1)"
   ]
  },
  {
   "cell_type": "code",
   "execution_count": 87,
   "id": "9f837373-0cc1-4b5b-b1c7-52a79f62ca5d",
   "metadata": {},
   "outputs": [
    {
     "name": "stdout",
     "output_type": "stream",
     "text": [
      "apple\n",
      "banana\n",
      "orange\n",
      "kiwi\n",
      "papaya\n"
     ]
    }
   ],
   "source": [
    "my_tuple = (\"apple\", \"banana\", \"orange\", \"kiwi\", \"papaya\")\n",
    "for fruit in my_tuple:\n",
    "    print(fruit)"
   ]
  },
  {
   "cell_type": "code",
   "execution_count": 88,
   "id": "9c1ba7ca-d2b1-414d-a96e-ed7c7c1fee3d",
   "metadata": {},
   "outputs": [
    {
     "name": "stdout",
     "output_type": "stream",
     "text": [
      "True\n",
      "False\n"
     ]
    }
   ],
   "source": [
    "find = (1,2,3,4,5,6,7)\n",
    "print(1 in find)\n",
    "print(8 in find)"
   ]
  },
  {
   "cell_type": "code",
   "execution_count": 89,
   "id": "c75e2519-e35e-4d77-8e76-e8be7d71e50c",
   "metadata": {},
   "outputs": [
    {
     "name": "stdout",
     "output_type": "stream",
     "text": [
      "(255, 487, 854, 742, 365, 74, 26, 48, 75, 94)\n"
     ]
    }
   ],
   "source": [
    "t1 = (255,487,854,742,365)\n",
    "t2 = (74,26,48,75,94)\n",
    "print(t1+t2)"
   ]
  },
  {
   "cell_type": "code",
   "execution_count": 3,
   "id": "ba51885d",
   "metadata": {},
   "outputs": [
    {
     "name": "stdout",
     "output_type": "stream",
     "text": [
      "[45, 75, 15, 75, 85]\n",
      "[85, 75, 15, 75, 45]\n",
      "(85, 75, 15, 75, 45)\n"
     ]
    }
   ],
   "source": [
    "q1 = (45,75,15,75,85)\n",
    "q2 = list(q1)\n",
    "print(q2)\n",
    "q2.reverse()\n",
    "print(q2)\n",
    "q3 = tuple(q2)\n",
    "print(q3)"
   ]
  },
  {
   "cell_type": "code",
   "execution_count": 93,
   "id": "2be980eb-956d-4407-879a-5ebf15377f40",
   "metadata": {},
   "outputs": [
    {
     "data": {
      "text/plain": [
       "2"
      ]
     },
     "execution_count": 93,
     "metadata": {},
     "output_type": "execute_result"
    }
   ],
   "source": [
    "tu = (15,74,58,65,15)\n",
    "tu.count(15)"
   ]
  },
  {
   "cell_type": "code",
   "execution_count": 96,
   "id": "7c41e6bc-83c9-4c4b-80eb-3c72cfce296d",
   "metadata": {},
   "outputs": [
    {
     "name": "stdout",
     "output_type": "stream",
     "text": [
      "Tuple (34, 43, 23, 45, 65, 36)\n",
      "Maximum Value 65\n",
      "Minimum Value 23\n"
     ]
    }
   ],
   "source": [
    "u = (34, 43, 23, 45, 65, 36)\n",
    "maximum = max(u)\n",
    "minimum = min(u)\n",
    "print(\"Tuple\", u)\n",
    "print(\"Maximum Value\", maximum)\n",
    "print(\"Minimum Value\", minimum)"
   ]
  },
  {
   "cell_type": "code",
   "execution_count": 97,
   "id": "5e11cc36-fa48-4d35-922c-9799e0630d35",
   "metadata": {},
   "outputs": [
    {
     "name": "stdout",
     "output_type": "stream",
     "text": [
      "apple\n",
      "(10, 20, 30)\n",
      "20\n",
      "banana\n"
     ]
    }
   ],
   "source": [
    "# Creating a nested tuple\n",
    "nested_tuple = (\"apple\", (10, 20, 30), \"banana\")\n",
    "\n",
    "# Accessing elements\n",
    "print(nested_tuple[0])        \n",
    "print(nested_tuple[1])       \n",
    "print(nested_tuple[1][1])     \n",
    "print(nested_tuple[2])       "
   ]
  },
  {
   "cell_type": "code",
   "execution_count": 99,
   "id": "49454c5a-d83e-478e-b9a2-d0f11bf5d3d4",
   "metadata": {},
   "outputs": [
    {
     "name": "stdout",
     "output_type": "stream",
     "text": [
      "(1, 2, 3, 4, 5, 6)\n"
     ]
    }
   ],
   "source": [
    "r = ((1, 2), (3, 4), (5, 6))\n",
    "print(r[0]+r[1]+r[2]) "
   ]
  },
  {
   "cell_type": "code",
   "execution_count": 100,
   "id": "cc4a44ed-e0ce-43e7-a409-074770b683b6",
   "metadata": {},
   "outputs": [
    {
     "name": "stdout",
     "output_type": "stream",
     "text": [
      "Longest word: dragonfruit\n"
     ]
    }
   ],
   "source": [
    "# Creating a tuple of words\n",
    "words = (\"apple\", \"banana\", \"cherry\", \"dragonfruit\", \"fig\")\n",
    "\n",
    "# Finding the longest word\n",
    "longest = max(words, key=len)\n",
    "\n",
    "print(\"Longest word:\", longest)\n"
   ]
  },
  {
   "cell_type": "code",
   "execution_count": 2,
   "id": "0cecc6f8-8d6f-46be-a73a-ea83e9613a93",
   "metadata": {},
   "outputs": [
    {
     "name": "stdout",
     "output_type": "stream",
     "text": [
      "Common elements: (51, 21)\n"
     ]
    }
   ],
   "source": [
    "a = (51,26,618,754,21)\n",
    "b = (575,146,78,21,51)\n",
    "common = tuple(set(a) & set(b))\n",
    "\n",
    "print(\"Common elements:\", common)"
   ]
  },
  {
   "cell_type": "code",
   "execution_count": 1,
   "id": "43a89699-53e5-440d-84ce-471af2f3c22b",
   "metadata": {},
   "outputs": [
    {
     "name": "stdout",
     "output_type": "stream",
     "text": [
      "[40, 20, 30, 10]\n"
     ]
    }
   ],
   "source": [
    "f = (10,20,30,40)\n",
    "f = list(f)\n",
    "f[0],f[-1] = f[-1], f[0]\n",
    "print(f)"
   ]
  },
  {
   "cell_type": "code",
   "execution_count": null,
   "id": "7ab08fb4-b0e3-4df4-8d35-9422515f50ea",
   "metadata": {},
   "outputs": [],
   "source": []
  }
 ],
 "metadata": {
  "kernelspec": {
   "display_name": "Python [conda env:base] *",
   "language": "python",
   "name": "conda-base-py"
  },
  "language_info": {
   "codemirror_mode": {
    "name": "ipython",
    "version": 3
   },
   "file_extension": ".py",
   "mimetype": "text/x-python",
   "name": "python",
   "nbconvert_exporter": "python",
   "pygments_lexer": "ipython3",
   "version": "3.13.5"
  }
 },
 "nbformat": 4,
 "nbformat_minor": 5
}
